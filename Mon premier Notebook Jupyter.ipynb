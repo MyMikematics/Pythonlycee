{
 "cells": [
  {
   "cell_type": "code",
   "execution_count": 34,
   "metadata": {},
   "outputs": [
    {
     "name": "stdout",
     "output_type": "stream",
     "text": [
      "Hello Anaconda\n"
     ]
    }
   ],
   "source": [
    "print(\"Hello Anaconda\")"
   ]
  },
  {
   "cell_type": "code",
   "execution_count": 35,
   "metadata": {},
   "outputs": [
    {
     "name": "stdout",
     "output_type": "stream",
     "text": [
      "Hello Michel\n"
     ]
    }
   ],
   "source": [
    "print(\"Hello Michel\")"
   ]
  },
  {
   "cell_type": "code",
   "execution_count": 36,
   "metadata": {},
   "outputs": [
    {
     "name": "stdout",
     "output_type": "stream",
     "text": [
      "23\n"
     ]
    }
   ],
   "source": [
    "a=10\n",
    "b=13\n",
    "print(a+b)"
   ]
  },
  {
   "cell_type": "code",
   "execution_count": 37,
   "metadata": {},
   "outputs": [
    {
     "data": {
      "text/plain": [
       "False"
      ]
     },
     "execution_count": 37,
     "metadata": {},
     "output_type": "execute_result"
    }
   ],
   "source": [
    "a=10\n",
    "b=31\n",
    "a==b"
   ]
  },
  {
   "cell_type": "code",
   "execution_count": 38,
   "metadata": {},
   "outputs": [
    {
     "data": {
      "text/plain": [
       "True"
      ]
     },
     "execution_count": 38,
     "metadata": {},
     "output_type": "execute_result"
    }
   ],
   "source": [
    "a=10\n",
    "b=13\n",
    "a<b"
   ]
  },
  {
   "cell_type": "code",
   "execution_count": 39,
   "metadata": {},
   "outputs": [
    {
     "data": {
      "text/plain": [
       "False"
      ]
     },
     "execution_count": 39,
     "metadata": {},
     "output_type": "execute_result"
    }
   ],
   "source": [
    "a>b"
   ]
  },
  {
   "cell_type": "markdown",
   "metadata": {},
   "source": [
    "# I. Mes premiers pas avec un Notebook"
   ]
  },
  {
   "cell_type": "markdown",
   "metadata": {},
   "source": [
    "## I.1.Mes premiers essais de titre"
   ]
  },
  {
   "cell_type": "markdown",
   "metadata": {},
   "source": [
    "### premier essai de boucle \"for\""
   ]
  },
  {
   "cell_type": "code",
   "execution_count": 40,
   "metadata": {},
   "outputs": [
    {
     "name": "stdout",
     "output_type": "stream",
     "text": [
      "120\n"
     ]
    }
   ],
   "source": [
    "a=0\n",
    "for i in range(16) :\n",
    "    a=a+i\n",
    "print (a)"
   ]
  },
  {
   "cell_type": "markdown",
   "metadata": {},
   "source": [
    "### premier essai de fonction"
   ]
  },
  {
   "cell_type": "code",
   "execution_count": 41,
   "metadata": {},
   "outputs": [],
   "source": [
    "def factorielle(n) :\n",
    "    fact = 1\n",
    "    for i in range(2,n+1) :\n",
    "        fact=fact*i\n",
    "    return fact\n",
    "    "
   ]
  },
  {
   "cell_type": "code",
   "execution_count": 42,
   "metadata": {},
   "outputs": [
    {
     "data": {
      "text/plain": [
       "24"
      ]
     },
     "execution_count": 42,
     "metadata": {},
     "output_type": "execute_result"
    }
   ],
   "source": [
    "factorielle(4)"
   ]
  },
  {
   "cell_type": "code",
   "execution_count": 43,
   "metadata": {},
   "outputs": [
    {
     "data": {
      "text/plain": [
       "3628800"
      ]
     },
     "execution_count": 43,
     "metadata": {},
     "output_type": "execute_result"
    }
   ],
   "source": [
    "factorielle(10)"
   ]
  },
  {
   "cell_type": "code",
   "execution_count": 44,
   "metadata": {},
   "outputs": [
    {
     "data": {
      "text/plain": [
       "93326215443944152681699238856266700490715968264381621468592963895217599993229915608941463976156518286253697920827223758251185210916864000000000000000000000000"
      ]
     },
     "execution_count": 44,
     "metadata": {},
     "output_type": "execute_result"
    }
   ],
   "source": [
    "factorielle(100)"
   ]
  },
  {
   "cell_type": "markdown",
   "metadata": {},
   "source": [
    "### Deuxième essai de fonction\n",
    "#### Une fonction somme des n premiers entiers"
   ]
  },
  {
   "cell_type": "code",
   "execution_count": 45,
   "metadata": {},
   "outputs": [],
   "source": [
    "def somme_int(n) : \n",
    "    sumint=0\n",
    "    for i in range (1,n+1) :\n",
    "        sumint=sumint+i\n",
    "    return sumint"
   ]
  },
  {
   "cell_type": "code",
   "execution_count": 46,
   "metadata": {},
   "outputs": [
    {
     "data": {
      "text/plain": [
       "15"
      ]
     },
     "execution_count": 46,
     "metadata": {},
     "output_type": "execute_result"
    }
   ],
   "source": [
    "somme_int(5)"
   ]
  },
  {
   "cell_type": "code",
   "execution_count": 47,
   "metadata": {},
   "outputs": [
    {
     "data": {
      "text/plain": [
       "787248344655"
      ]
     },
     "execution_count": 47,
     "metadata": {},
     "output_type": "execute_result"
    }
   ],
   "source": [
    "somme_int(1254789)"
   ]
  },
  {
   "cell_type": "markdown",
   "metadata": {},
   "source": [
    "### Troisième et quatrième essais de fonction\n",
    "#### Une fonction somme des n premiers cubes et une fonction somme des n premiers entiers impairs"
   ]
  },
  {
   "cell_type": "code",
   "execution_count": 48,
   "metadata": {},
   "outputs": [],
   "source": [
    "def somme_cubes_int(n) : \n",
    "    sumcubint=0\n",
    "    for i in range (1,n+1) :\n",
    "        sumcubint=sumcubint+i**3\n",
    "    return sumcubint"
   ]
  },
  {
   "cell_type": "code",
   "execution_count": 49,
   "metadata": {},
   "outputs": [
    {
     "data": {
      "text/plain": [
       "225"
      ]
     },
     "execution_count": 49,
     "metadata": {},
     "output_type": "execute_result"
    }
   ],
   "source": [
    "somme_cubes_int(5)"
   ]
  },
  {
   "cell_type": "code",
   "execution_count": 50,
   "metadata": {},
   "outputs": [
    {
     "data": {
      "text/plain": [
       "9"
      ]
     },
     "execution_count": 50,
     "metadata": {},
     "output_type": "execute_result"
    }
   ],
   "source": [
    "somme_cubes_int(2)"
   ]
  },
  {
   "cell_type": "code",
   "execution_count": 51,
   "metadata": {},
   "outputs": [],
   "source": [
    "def somme_odd_int(n) : \n",
    "    sumoddint=0\n",
    "    for i in range (n) :\n",
    "        sumoddint=sumoddint+2*i+1\n",
    "    return sumoddint"
   ]
  },
  {
   "cell_type": "code",
   "execution_count": 52,
   "metadata": {},
   "outputs": [
    {
     "data": {
      "text/plain": [
       "9"
      ]
     },
     "execution_count": 52,
     "metadata": {},
     "output_type": "execute_result"
    }
   ],
   "source": [
    "somme_odd_int(3)"
   ]
  },
  {
   "cell_type": "markdown",
   "metadata": {},
   "source": [
    "### Fonctions Géométriques \n",
    "- une fonction qui calcule le périmètre d'un triangle, l'aire d'un triangle\n",
    "- une fonction qui teste l'inégalité triangulaire ? qui <font color='green'>d'abord sait quelles sont les plus petites longueurs...</font> \n",
    "- une fonction de prof qui, pour une distance donnée, retourne les quatre coordonnées entières de deux points A et B \n",
    "\n",
    "### Fonctions Numériques\n",
    "- une fonction qui fait afficher Pi avec une très grand précision\n",
    "\n",
    "### Fonctions Arithmétiques\n",
    "- une fonction pgcd ?  <font color='red'>avec une liste de restes de division euclidienne ?</font>\n",
    "- une fonction ppcm (qui utiliserait la fonction pgcd) ?\n",
    "- une fonction qui donne les coefficients de Bezout ? avec une liste de restes de division euclidienne\n",
    "- une fonction qui effectue la décomposition en facteurs premiers ?\n",
    "- une fonction qui donne la liste des diviseurs ?\n",
    "\n",
    "### Suites Numériques\n",
    "- Suite de Fibonacci  <font color='red'>OK DONE</font>\n",
    "\n",
    "### Autres\n",
    "- puissances de matrices? suites de matrices ? ancien programme de spé ?\n",
    "- nombres complexes ?\n",
    "- resolution de l'équation du second degré réelle ?\n"
   ]
  },
  {
   "cell_type": "markdown",
   "metadata": {},
   "source": [
    "Comment obtenir : \n",
    "\n",
    "- passer de la valeur exacte à la valeur décimale avec une précision donnée"
   ]
  },
  {
   "cell_type": "markdown",
   "metadata": {},
   "source": [
    "On a déjà :\n",
    "- les quatre opérations\n",
    "- la racine carrée\n",
    "- la barre de division / qui renvoie le quotient réel ou décimal\n",
    "- la double barre de division <font color='red'> // </font> qui renvoie le quotient de la division euclidienne\n",
    "- la valaur absolue : <font color='red'>fabs(x)</font>\n",
    "- la fonction partie entière : <font color='red'>c'est floor()</font>\n"
   ]
  },
  {
   "cell_type": "code",
   "execution_count": 53,
   "metadata": {},
   "outputs": [
    {
     "data": {
      "text/plain": [
       "1.5"
      ]
     },
     "execution_count": 53,
     "metadata": {},
     "output_type": "execute_result"
    }
   ],
   "source": [
    "a=3\n",
    "b=2\n",
    "a/b"
   ]
  },
  {
   "cell_type": "code",
   "execution_count": 54,
   "metadata": {},
   "outputs": [
    {
     "data": {
      "text/plain": [
       "1"
      ]
     },
     "execution_count": 54,
     "metadata": {},
     "output_type": "execute_result"
    }
   ],
   "source": [
    "a=3\n",
    "b=2\n",
    "a//b"
   ]
  },
  {
   "cell_type": "code",
   "execution_count": 55,
   "metadata": {},
   "outputs": [
    {
     "name": "stdout",
     "output_type": "stream",
     "text": [
      "3.5\n",
      "-4\n",
      "1\n"
     ]
    }
   ],
   "source": [
    ">>> from math import fabs, gcd, floor\n",
    "a=-3.5\n",
    "b=7\n",
    "c=9\n",
    "print(fabs(a))\n",
    "print(floor(a))\n",
    "print(gcd(b,c))"
   ]
  },
  {
   "cell_type": "code",
   "execution_count": 56,
   "metadata": {},
   "outputs": [],
   "source": [
    ">>> from math import fabs\n",
    "def max(x,y) :\n",
    "    m=(fabs(x-y)+x+y)/2\n",
    "    return m\n"
   ]
  },
  {
   "cell_type": "code",
   "execution_count": 57,
   "metadata": {},
   "outputs": [
    {
     "data": {
      "text/plain": [
       "15.0"
      ]
     },
     "execution_count": 57,
     "metadata": {},
     "output_type": "execute_result"
    }
   ],
   "source": [
    "max(-3,15)"
   ]
  },
  {
   "cell_type": "code",
   "execution_count": 58,
   "metadata": {},
   "outputs": [
    {
     "data": {
      "text/plain": [
       "42.0"
      ]
     },
     "execution_count": 58,
     "metadata": {},
     "output_type": "execute_result"
    }
   ],
   "source": [
    "max(42,5)"
   ]
  },
  {
   "cell_type": "code",
   "execution_count": 59,
   "metadata": {},
   "outputs": [
    {
     "data": {
      "text/plain": [
       "-78.0"
      ]
     },
     "execution_count": 59,
     "metadata": {},
     "output_type": "execute_result"
    }
   ],
   "source": [
    "max(-78,-96)"
   ]
  },
  {
   "cell_type": "code",
   "execution_count": 60,
   "metadata": {},
   "outputs": [
    {
     "data": {
      "text/plain": [
       "0.3333333333333333"
      ]
     },
     "execution_count": 60,
     "metadata": {},
     "output_type": "execute_result"
    }
   ],
   "source": [
    "1/3"
   ]
  },
  {
   "cell_type": "code",
   "execution_count": 61,
   "metadata": {},
   "outputs": [
    {
     "data": {
      "text/plain": [
       "0.7647058823529411"
      ]
     },
     "execution_count": 61,
     "metadata": {},
     "output_type": "execute_result"
    }
   ],
   "source": [
    "13/17"
   ]
  },
  {
   "cell_type": "code",
   "execution_count": 62,
   "metadata": {},
   "outputs": [
    {
     "data": {
      "text/plain": [
       "'%.20f'"
      ]
     },
     "execution_count": 62,
     "metadata": {},
     "output_type": "execute_result"
    }
   ],
   "source": [
    "%precision 20"
   ]
  },
  {
   "cell_type": "code",
   "execution_count": 63,
   "metadata": {},
   "outputs": [
    {
     "data": {
      "text/plain": [
       "0.33333333333333331483"
      ]
     },
     "execution_count": 63,
     "metadata": {},
     "output_type": "execute_result"
    }
   ],
   "source": [
    "1/3"
   ]
  },
  {
   "cell_type": "markdown",
   "metadata": {},
   "source": [
    "Problème d'erreur à partir de la 16ème décimale. Donc la commande \"%precision 20\" ne modifie que l'affichage"
   ]
  },
  {
   "cell_type": "code",
   "execution_count": 64,
   "metadata": {},
   "outputs": [
    {
     "data": {
      "text/plain": [
       "3"
      ]
     },
     "execution_count": 64,
     "metadata": {},
     "output_type": "execute_result"
    }
   ],
   "source": [
    ">>> from math import *\n",
    "floor(pi)"
   ]
  },
  {
   "cell_type": "markdown",
   "metadata": {},
   "source": [
    "### Triangle de Pascal"
   ]
  },
  {
   "cell_type": "code",
   "execution_count": 65,
   "metadata": {},
   "outputs": [
    {
     "name": "stdout",
     "output_type": "stream",
     "text": [
      "Entrez le nombre de lignes du triangle de Pascal: 7\n",
      "                           1 \n",
      "                        1      1 \n",
      "                     1      2      1 \n",
      "                  1      3      3      1 \n",
      "               1      4      6      4      1 \n",
      "            1      5     10     10      5      1 \n",
      "         1      6     15     20     15      6      1 \n"
     ]
    }
   ],
   "source": [
    "n=int(input(\"Entrez le nombre de lignes du triangle de Pascal: \"))\n",
    "x=[]\n",
    "for i in range(n):\n",
    "    x.append([])\n",
    "    x[i].append(1)\n",
    "    for j in range(1,i):\n",
    "        x[i].append(x[i-1][j-1]+x[i-1][j])\n",
    "    if(n!=0):\n",
    "        x[i].append(1)\n",
    "for i in range(n):\n",
    "    print(\"   \"*(n-i),end=\" \",sep=\" \")\n",
    "    for j in range(0,i+1):\n",
    "        print('{0:6}'.format(x[i][j]),end=\" \",sep=\" \")\n",
    "    print()"
   ]
  },
  {
   "cell_type": "code",
   "execution_count": 66,
   "metadata": {},
   "outputs": [
    {
     "name": "stdout",
     "output_type": "stream",
     "text": [
      "Entrez le nombre de lignes du triangle de Pascal: 13\n",
      "                                       \n",
      "     1\n",
      "                                    \n",
      "     1     1\n",
      "                                 \n",
      "     1     2     1\n",
      "                              \n",
      "     1     3     3     1\n",
      "                           \n",
      "     1     4     6     4     1\n",
      "                        \n",
      "     1     5    10    10     5     1\n",
      "                     \n",
      "     1     6    15    20    15     6     1\n",
      "                  \n",
      "     1     7    21    35    35    21     7     1\n",
      "               \n",
      "     1     8    28    56    70    56    28     8     1\n",
      "            \n",
      "     1     9    36    84   126   126    84    36     9     1\n",
      "         \n",
      "     1    10    45   120   210   252   210   120    45    10     1\n",
      "      \n",
      "     1    11    55   165   330   462   462   330   165    55    11     1\n",
      "   \n",
      "     1    12    66   220   495   792   924   792   495   220    66    12     1\n"
     ]
    }
   ],
   "source": [
    "n=int(input(\"Entrez le nombre de lignes du triangle de Pascal: \"))\n",
    "x=[]\n",
    "for i in range(n):\n",
    "    x.append([])\n",
    "    x[i].append(1)\n",
    "    for j in range(1,i):\n",
    "        x[i].append(x[i-1][j-1]+x[i-1][j])\n",
    "    if(n!=0):\n",
    "        x[i].append(1)\n",
    "for i in range(n):\n",
    "    print(\"   \"*(n-i))\n",
    "    for j in range(0,i+1):\n",
    "        print('{0:6}'.format(x[i][j]),end=\"\")\n",
    "    print()"
   ]
  },
  {
   "cell_type": "code",
   "execution_count": 67,
   "metadata": {},
   "outputs": [
    {
     "name": "stdout",
     "output_type": "stream",
     "text": [
      "1\n",
      "2\n",
      "3\n",
      "4\n",
      "5\n",
      "6\n",
      "7\n"
     ]
    }
   ],
   "source": [
    ">>> a = 0\n",
    ">>> while (a < 7):\n",
    "...    a = a + 1\n",
    "...    print(a)"
   ]
  },
  {
   "cell_type": "markdown",
   "metadata": {},
   "source": [
    "# Fonctions Numériques\n",
    "## Des fonctions pour augmenter la précision des résultats \n",
    "On veut plus un plus grand nombre de \"décimales\" :\n",
    "- pour les fractions et ainsi, observer la périodicité\n",
    "- pour les irrationnels :\n",
    "    - racine carrée des entiers premiers\n",
    "    - Pi, e et gamma,..."
   ]
  },
  {
   "cell_type": "code",
   "execution_count": 68,
   "metadata": {},
   "outputs": [
    {
     "name": "stdout",
     "output_type": "stream",
     "text": [
      "0.1428571428571428571428571428571428571428571428571428571428571428571428571428571428571428571428571428571428571428571428571428571428571428571428571428571428571428571428571428571428571428571428571428571428571428571428571428571428571428571428571428571428571428571428571428571428571428571428571428571428571428571428571428571428571428571428571428571428571428571428571428571428571428571428571428571428571428571428571428571428571428571428571428571428571428571428571428571428571428571428571428571428571428571428571428571428571428571428571428571428571428571428571428571428571428571428571428571428571428571428571428571428571428571428571428571428571428571428571428571428571428571428571428571428571428571428571428571428571428571428571428571428571428571428571428571428571428571428571428571428571428571428571428571428571428571428571428571428571428571428571428571428571428571428571428571428571428571428571428571428571428571428571428571428571428571428571428571428571428571428571428571428571428571428571428571428571429\n"
     ]
    }
   ],
   "source": [
    "# on demande 1 000 décimales pour la fraction 1/7\n",
    "\n",
    "from decimal import *\n",
    "getcontext().prec = 1000\n",
    "f=Decimal(1)/Decimal(7)\n",
    "print(f)"
   ]
  },
  {
   "cell_type": "code",
   "execution_count": 69,
   "metadata": {},
   "outputs": [
    {
     "name": "stdout",
     "output_type": "stream",
     "text": [
      "0.7647058823529411764705882352941176470588235294117647058823529411764705882352941176470588235294117647058823529411764705882352941176470588235294117647058823529411764705882352941176470588235294117647058823529411764705882352941176470588235294117647058823529411764705882352941176470588235294117647058823529411764705882352941176470588235294117647058823529411764705882352941176470588235294117647058823529411764705882352941176470588235294117647058823529411764705882352941176470588235294117647058823529411764705882352941176470588235294117647058823529411764705882352941176470588235294117647058823529411764705882352941176470588235294117647058823529411764705882352941176470588235294117647058823529411764705882352941176470588235294117647058823529411764705882352941176470588235294117647058823529411764705882352941176470588235294117647058823529411764705882352941176470588235294117647058823529411764705882352941176470588235294117647058823529411764705882352941176470588235294117647058823529411764705882352941176470588\n"
     ]
    }
   ],
   "source": [
    "# même chose avec la fraction 13/17\n",
    "\n",
    "from decimal import *\n",
    "getcontext().prec = 1000\n",
    "f=Decimal(13)/Decimal(17)\n",
    "print(f)"
   ]
  },
  {
   "cell_type": "code",
   "execution_count": 7,
   "metadata": {},
   "outputs": [
    {
     "name": "stdout",
     "output_type": "stream",
     "text": [
      "1.414213562373095048801688724209698078569671875376948073176679737990732478462107038850387534327641572735013846230912297024924836055850737212644121497099935831413222665927505592755799950501152782060571470109559971605970274534596862014728517418640889198609552329230484308714321450839762603627995251407989687253396546331808829640620615258352395054745750287759961729835575220337531857011354374603408498847160386899970699004815030544027790316454247823068492936918621580578463111596668713013015618568987237235288509264861249497715421833420428568606014682472077143585487415565706967765372022648544701585880162075847492265722600208558446652145839889394437092659180031138824646815708263010059485870400318648034219489727829064104507263688131373985525611732204024509122770022694112757362728049573810896750401836986836845072579936472906076299694138047565482372899718032680247442062926912485905218100445984215059112024944134172853147810580360337107730918286931471017111168391658172688941975871658215212822951848847\n"
     ]
    }
   ],
   "source": [
    "# même chose avec $\\sqrt{2}$\n",
    "\n",
    "from decimal import *\n",
    "from math import *\n",
    "getcontext().prec = 1000\n",
    "print(Decimal(2).sqrt())"
   ]
  },
  {
   "cell_type": "code",
   "execution_count": 71,
   "metadata": {},
   "outputs": [
    {
     "data": {
      "text/plain": [
       "2.00000000000000000000"
      ]
     },
     "execution_count": 71,
     "metadata": {},
     "output_type": "execute_result"
    }
   ],
   "source": [
    "sqrt(4)"
   ]
  },
  {
   "cell_type": "markdown",
   "metadata": {},
   "source": [
    "# Fonctions géométriques"
   ]
  },
  {
   "cell_type": "code",
   "execution_count": 72,
   "metadata": {},
   "outputs": [
    {
     "name": "stdout",
     "output_type": "stream",
     "text": [
      "Donnez moi xA = 9\n",
      "Donnez moi yB = 10\n",
      "Donnez moi xB = 11\n",
      "Donnez moi yB = 12\n",
      "Bonjour, la distance AB vaut  2.8284271247461903\n"
     ]
    }
   ],
   "source": [
    "# la fonction qui permet de calculer les coordonnées du milieu d'un segment\n",
    "\n",
    "import math\n",
    "\n",
    "xA = int(input(\"Donnez moi xA = \"))\n",
    "yA = int(input(\"Donnez moi yB = \"))\n",
    "xB = int(input(\"Donnez moi xB = \"))\n",
    "yB = int(input(\"Donnez moi yB = \"))\n",
    "\n",
    "distance = math.sqrt((xB - xA)**2 + (yB - yA)**2)\n",
    "\n",
    "print(\"Bonjour, la distance AB vaut \",distance)"
   ]
  },
  {
   "cell_type": "code",
   "execution_count": 73,
   "metadata": {},
   "outputs": [
    {
     "name": "stdout",
     "output_type": "stream",
     "text": [
      "Donnez moi xA = 13\n",
      "Donnez moi yB = 14\n",
      "Donnez moi xB = 15\n",
      "Donnez moi yB = 16\n",
      "Bonjour, les coordonnées du milieu I du segment [AB] sont  [14.0, 15.0]\n"
     ]
    }
   ],
   "source": [
    "# La fonction qui permet de calculer la distance entre deux points\n",
    "\n",
    "import math\n",
    "L=[]\n",
    "\n",
    "xA = int(input(\"Donnez moi xA = \"))\n",
    "yA = int(input(\"Donnez moi yB = \"))\n",
    "xB = int(input(\"Donnez moi xB = \"))\n",
    "yB = int(input(\"Donnez moi yB = \"))\n",
    "\n",
    "xI=(xA+xB)/2\n",
    "yI=(yA+yB)/2\n",
    "L=[xI,yI]\n",
    "\n",
    "print(\"Bonjour, les coordonnées du milieu I du segment [AB] sont \", L)"
   ]
  },
  {
   "cell_type": "markdown",
   "metadata": {},
   "source": [
    "# Suites"
   ]
  },
  {
   "cell_type": "code",
   "execution_count": 1,
   "metadata": {},
   "outputs": [],
   "source": [
    "def u(n) :\n",
    "    u=1+((-1)**n)/n\n",
    "    return u"
   ]
  },
  {
   "cell_type": "code",
   "execution_count": 2,
   "metadata": {},
   "outputs": [
    {
     "data": {
      "text/plain": [
       "1.1"
      ]
     },
     "execution_count": 2,
     "metadata": {},
     "output_type": "execute_result"
    }
   ],
   "source": [
    "u(10)"
   ]
  },
  {
   "cell_type": "code",
   "execution_count": 3,
   "metadata": {},
   "outputs": [
    {
     "name": "stdout",
     "output_type": "stream",
     "text": [
      "0.0\n",
      "1.5\n",
      "0.6666666666666667\n",
      "1.25\n",
      "0.8\n",
      "1.1666666666666667\n",
      "0.8571428571428572\n",
      "1.125\n",
      "0.8888888888888888\n",
      "1.1\n",
      "0.9090909090909091\n",
      "1.0833333333333333\n",
      "0.9230769230769231\n",
      "1.0714285714285714\n",
      "0.9333333333333333\n",
      "1.0625\n",
      "0.9411764705882353\n",
      "1.0555555555555556\n",
      "0.9473684210526316\n",
      "1.05\n"
     ]
    }
   ],
   "source": [
    "n=20\n",
    "for i in range (1,n+1) :\n",
    "    print (u(i))"
   ]
  },
  {
   "cell_type": "markdown",
   "metadata": {},
   "source": [
    "## Suites récurrentes\n",
    "### Suites définies avec \"range\" comme fonction d'un indice\n",
    "#### Deux suites récurrentes qui convergent vers le Nombre d'Or"
   ]
  },
  {
   "cell_type": "code",
   "execution_count": 77,
   "metadata": {},
   "outputs": [],
   "source": [
    "def goldenratio_1(n) :\n",
    "    x=1\n",
    "    for i in range(n) :\n",
    "        x=1+1/x\n",
    "    print(x)"
   ]
  },
  {
   "cell_type": "code",
   "execution_count": 78,
   "metadata": {},
   "outputs": [
    {
     "name": "stdout",
     "output_type": "stream",
     "text": [
      "1.618033988749895\n"
     ]
    }
   ],
   "source": [
    "goldenratio_1(40)"
   ]
  },
  {
   "cell_type": "code",
   "execution_count": 79,
   "metadata": {},
   "outputs": [],
   "source": [
    "def goldenratio_2(n) :\n",
    "    x=1\n",
    "    for i in range(n) :\n",
    "        x=sqrt(1+x)\n",
    "    print(x)"
   ]
  },
  {
   "cell_type": "code",
   "execution_count": 80,
   "metadata": {},
   "outputs": [
    {
     "name": "stdout",
     "output_type": "stream",
     "text": [
      "1.618033988749895\n"
     ]
    }
   ],
   "source": [
    "goldenratio_2(40)"
   ]
  },
  {
   "cell_type": "markdown",
   "metadata": {},
   "source": [
    "#### Méthode de Héron pour $\\sqrt{2}$ et $\\sqrt{7}$"
   ]
  },
  {
   "cell_type": "code",
   "execution_count": 81,
   "metadata": {},
   "outputs": [],
   "source": [
    "def racinededeux(n) :\n",
    "    x=1\n",
    "    for i in range(n) :\n",
    "        x=(1/2)*(x+2/x)\n",
    "        print(x)"
   ]
  },
  {
   "cell_type": "code",
   "execution_count": 82,
   "metadata": {},
   "outputs": [
    {
     "name": "stdout",
     "output_type": "stream",
     "text": [
      "1.5\n",
      "1.4166666666666665\n",
      "1.4142156862745097\n",
      "1.4142135623746899\n",
      "1.414213562373095\n",
      "1.414213562373095\n",
      "1.414213562373095\n",
      "1.414213562373095\n",
      "1.414213562373095\n",
      "1.414213562373095\n",
      "1.414213562373095\n",
      "1.414213562373095\n",
      "1.414213562373095\n",
      "1.414213562373095\n",
      "1.414213562373095\n",
      "1.414213562373095\n",
      "1.414213562373095\n",
      "1.414213562373095\n",
      "1.414213562373095\n",
      "1.414213562373095\n"
     ]
    }
   ],
   "source": [
    "racinededeux(20)"
   ]
  },
  {
   "cell_type": "code",
   "execution_count": 83,
   "metadata": {},
   "outputs": [],
   "source": [
    "def racinedesept(n) :\n",
    "    x=1\n",
    "    for i in range(n) :\n",
    "        x=(1/2)*(x+7/x)\n",
    "        print(x)"
   ]
  },
  {
   "cell_type": "code",
   "execution_count": 84,
   "metadata": {},
   "outputs": [
    {
     "name": "stdout",
     "output_type": "stream",
     "text": [
      "4.0\n",
      "2.875\n",
      "2.654891304347826\n",
      "2.64576704419029\n",
      "2.6457513111113693\n",
      "2.6457513110645907\n",
      "2.6457513110645907\n",
      "2.6457513110645907\n",
      "2.6457513110645907\n",
      "2.6457513110645907\n",
      "2.6457513110645907\n",
      "2.6457513110645907\n",
      "2.6457513110645907\n",
      "2.6457513110645907\n",
      "2.6457513110645907\n",
      "2.6457513110645907\n",
      "2.6457513110645907\n",
      "2.6457513110645907\n",
      "2.6457513110645907\n",
      "2.6457513110645907\n"
     ]
    }
   ],
   "source": [
    "racinedesept(20)"
   ]
  },
  {
   "cell_type": "markdown",
   "metadata": {},
   "source": [
    "### Fonctions Arithmétiques : autour des triplets Pythagoriciens\n",
    "Un triplet (a,b,c) d'entiers naturels non nuls est dit Pythagoricien si il satisfait aux deux conditions $a\\leq b \\leq c$ et $a^2+b^2=c^2$"
   ]
  },
  {
   "cell_type": "code",
   "execution_count": 85,
   "metadata": {},
   "outputs": [
    {
     "name": "stdout",
     "output_type": "stream",
     "text": [
      "3 4 5\n",
      "5 12 13\n",
      "6 8 10\n",
      "7 24 25\n",
      "8 15 17\n",
      "9 12 15\n",
      "9 40 41\n",
      "10 24 26\n",
      "11 60 61\n",
      "12 16 20\n",
      "12 35 37\n",
      "13 84 85\n",
      "14 48 50\n",
      "15 20 25\n",
      "15 36 39\n",
      "16 30 34\n",
      "16 63 65\n",
      "18 24 30\n",
      "18 80 82\n",
      "20 21 29\n",
      "20 48 52\n",
      "21 28 35\n",
      "21 72 75\n",
      "24 32 40\n",
      "24 45 51\n",
      "24 70 74\n",
      "25 60 65\n",
      "27 36 45\n",
      "28 45 53\n",
      "28 96 100\n",
      "30 40 50\n",
      "30 72 78\n",
      "32 60 68\n",
      "33 44 55\n",
      "33 56 65\n",
      "35 84 91\n",
      "36 48 60\n",
      "36 77 85\n",
      "39 52 65\n",
      "39 80 89\n",
      "40 42 58\n",
      "40 75 85\n",
      "42 56 70\n",
      "45 60 75\n",
      "48 55 73\n",
      "48 64 80\n",
      "51 68 85\n",
      "54 72 90\n",
      "57 76 95\n",
      "60 63 87\n",
      "60 80 100\n",
      "65 72 97\n"
     ]
    }
   ],
   "source": [
    "# Triplets Pythagoriciens\n",
    "\n",
    "for i in range (1,101) :\n",
    "    for j in range(i,101) :\n",
    "        for k in range (j,101) :\n",
    "            if i**2 + j**2 == k**2 :\n",
    "                print (i,j,k)\n",
    "                                            # définir une liste puis :\n",
    "                                                # retirer de la liste tous les triplets \"multiples\"\n",
    "                                                # présenter le résultat sous la forme d'un tableau de 6 colonnes\n",
    "                                                # ranger par ordre croissant la suite des \"k\"\n",
    "                                            # cette fonction permet aussi de trouver des couples de points A et B \n",
    "                                            # à coordonnées entières tels que AB soit égale à un entier donné"
   ]
  },
  {
   "cell_type": "code",
   "execution_count": 23,
   "metadata": {},
   "outputs": [
    {
     "name": "stdout",
     "output_type": "stream",
     "text": [
      "3 4 5\n",
      "20 21 29\n",
      "119 120 169\n",
      "696 697 985\n",
      "4059 4060 5741\n",
      "23660 23661 33461\n"
     ]
    }
   ],
   "source": [
    "# un algorithme qui permet de déterminer les triplets pythagoriciens de la forme (n, n+1, k)\n",
    "\n",
    "from math import *\n",
    "for k in range (2,100000) :\n",
    "    x=(-1+sqrt(2*k**2-1))/2\n",
    "    if x-floor(x)==0 :\n",
    "        print(floor(x),floor(x)+1,k)"
   ]
  },
  {
   "cell_type": "code",
   "execution_count": 22,
   "metadata": {},
   "outputs": [
    {
     "name": "stdout",
     "output_type": "stream",
     "text": [
      "3 4 5\n",
      "5 12 13\n",
      "7 24 25\n",
      "9 40 41\n",
      "11 60 61\n",
      "13 84 85\n",
      "15 112 113\n",
      "17 144 145\n",
      "19 180 181\n",
      "21 220 221\n",
      "23 264 265\n",
      "25 312 313\n",
      "27 364 365\n",
      "29 420 421\n",
      "31 480 481\n",
      "33 544 545\n",
      "35 612 613\n",
      "37 684 685\n",
      "39 760 761\n",
      "41 840 841\n",
      "43 924 925\n",
      "45 1012 1013\n",
      "47 1104 1105\n",
      "49 1200 1201\n",
      "51 1300 1301\n",
      "53 1404 1405\n",
      "55 1512 1513\n",
      "57 1624 1625\n",
      "59 1740 1741\n",
      "61 1860 1861\n",
      "63 1984 1985\n",
      "65 2112 2113\n",
      "67 2244 2245\n",
      "69 2380 2381\n",
      "71 2520 2521\n",
      "73 2664 2665\n",
      "75 2812 2813\n",
      "77 2964 2965\n",
      "79 3120 3121\n",
      "81 3280 3281\n",
      "83 3444 3445\n",
      "85 3612 3613\n",
      "87 3784 3785\n",
      "89 3960 3961\n",
      "91 4140 4141\n",
      "93 4324 4325\n",
      "95 4512 4513\n",
      "97 4704 4705\n",
      "99 4900 4901\n",
      "101 5100 5101\n",
      "103 5304 5305\n",
      "105 5512 5513\n",
      "107 5724 5725\n",
      "109 5940 5941\n",
      "111 6160 6161\n",
      "113 6384 6385\n",
      "115 6612 6613\n",
      "117 6844 6845\n",
      "119 7080 7081\n",
      "121 7320 7321\n",
      "123 7564 7565\n",
      "125 7812 7813\n",
      "127 8064 8065\n",
      "129 8320 8321\n",
      "131 8580 8581\n",
      "133 8844 8845\n",
      "135 9112 9113\n",
      "137 9384 9385\n",
      "139 9660 9661\n",
      "141 9940 9941\n"
     ]
    }
   ],
   "source": [
    "# un algorithme qui permet de déterminer les triplets pythagoriciens de la forme (k, n, n+1)\n",
    "\n",
    "from math import *\n",
    "for k in range (1,10000) :\n",
    "    x=(sqrt(2*k+1))\n",
    "    if x-floor(x)==0 :\n",
    "        print(floor(x),k,k+1)"
   ]
  },
  {
   "cell_type": "code",
   "execution_count": null,
   "metadata": {},
   "outputs": [],
   "source": []
  }
 ],
 "metadata": {
  "kernelspec": {
   "display_name": "Python 3",
   "language": "python",
   "name": "python3"
  },
  "language_info": {
   "codemirror_mode": {
    "name": "ipython",
    "version": 3
   },
   "file_extension": ".py",
   "mimetype": "text/x-python",
   "name": "python",
   "nbconvert_exporter": "python",
   "pygments_lexer": "ipython3",
   "version": "3.7.4"
  }
 },
 "nbformat": 4,
 "nbformat_minor": 2
}

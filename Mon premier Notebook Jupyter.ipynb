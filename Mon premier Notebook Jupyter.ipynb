{
 "cells": [
  {
   "cell_type": "code",
   "execution_count": 1,
   "metadata": {},
   "outputs": [],
   "source": [
    "def suite1(n):        # Pour Python cette suite u s'appelle suite1. On utilise la méthode def\n",
    "    u = n**2 + 4*n    # On utilise une variable u pour stocker la valeur de chaque terme de la suite\n",
    "    return u          # la méthode return renvoie le contenu de la variable u"
   ]
  },
  {
   "cell_type": "code",
   "execution_count": 2,
   "metadata": {},
   "outputs": [
    {
     "data": {
      "text/plain": [
       "45"
      ]
     },
     "execution_count": 2,
     "metadata": {},
     "output_type": "execute_result"
    }
   ],
   "source": [
    "suite1(5)"
   ]
  },
  {
   "cell_type": "code",
   "execution_count": 3,
   "metadata": {},
   "outputs": [],
   "source": [
    "def suite3(n):              # on utilise def et on n'oublie pas les deux points\":\"\n",
    "    w = 2                   # on initialise une variable w à 0 qui est le premier terme de la suite w\n",
    "    for i in range(n):      # on a besoin de calculer tous les termes jusquà w_n pour trouver w_n+1: on utilise une boucle \"for\"\n",
    "        w = 2*w - (i+1)     # ici, à chaque rang, le terme u_n+1 dépend de w_n et aussi directement de n\n",
    "    return w                # on remarque ue le returne est aligné avec le \"for\" et aps avec le \"w\" précédent"
   ]
  },
  {
   "cell_type": "code",
   "execution_count": 4,
   "metadata": {},
   "outputs": [
    {
     "data": {
      "text/plain": [
       "7"
      ]
     },
     "execution_count": 4,
     "metadata": {},
     "output_type": "execute_result"
    }
   ],
   "source": [
    "suite3(5)                   # la suite démarre avec w_0 donc w_5 est le 6ème terme mais le compteur i démarre bien à 0 !"
   ]
  },
  {
   "cell_type": "code",
   "execution_count": 5,
   "metadata": {},
   "outputs": [
    {
     "data": {
      "text/plain": [
       "[Fraction(-9, 40), Fraction(-1, 4), Fraction(1, 1), Fraction(7, 8)]"
      ]
     },
     "execution_count": 5,
     "metadata": {},
     "output_type": "execute_result"
    }
   ],
   "source": [
    "from fractions import * \n",
    "\n",
    "def f(x):\n",
    "    z = (2*x + 3)/(x**2 + 4)\n",
    "    return z\n",
    "\n",
    "L=[-6,-4,1,2]\n",
    "Frac=[Fraction (i) for i in L]\n",
    "M=[Fraction(f(x)) for x in Frac]\n",
    "M\n"
   ]
  },
  {
   "cell_type": "code",
   "execution_count": 6,
   "metadata": {},
   "outputs": [
    {
     "name": "stdout",
     "output_type": "stream",
     "text": [
      "Hello Anaconda\n"
     ]
    }
   ],
   "source": [
    "print(\"Hello Anaconda\")"
   ]
  },
  {
   "cell_type": "code",
   "execution_count": 7,
   "metadata": {},
   "outputs": [
    {
     "name": "stdout",
     "output_type": "stream",
     "text": [
      "Hello Michel\n"
     ]
    }
   ],
   "source": [
    "print(\"Hello Michel\")"
   ]
  },
  {
   "cell_type": "code",
   "execution_count": 8,
   "metadata": {},
   "outputs": [
    {
     "name": "stdout",
     "output_type": "stream",
     "text": [
      "23\n"
     ]
    }
   ],
   "source": [
    "a=10\n",
    "b=13\n",
    "print(a+b)"
   ]
  },
  {
   "cell_type": "code",
   "execution_count": 9,
   "metadata": {},
   "outputs": [
    {
     "data": {
      "text/plain": [
       "False"
      ]
     },
     "execution_count": 9,
     "metadata": {},
     "output_type": "execute_result"
    }
   ],
   "source": [
    "a=10\n",
    "b=31\n",
    "a==b"
   ]
  },
  {
   "cell_type": "code",
   "execution_count": 10,
   "metadata": {},
   "outputs": [
    {
     "data": {
      "text/plain": [
       "True"
      ]
     },
     "execution_count": 10,
     "metadata": {},
     "output_type": "execute_result"
    }
   ],
   "source": [
    "a=10\n",
    "b=13\n",
    "a<b"
   ]
  },
  {
   "cell_type": "code",
   "execution_count": 11,
   "metadata": {},
   "outputs": [
    {
     "data": {
      "text/plain": [
       "False"
      ]
     },
     "execution_count": 11,
     "metadata": {},
     "output_type": "execute_result"
    }
   ],
   "source": [
    "a>b"
   ]
  },
  {
   "cell_type": "code",
   "execution_count": 12,
   "metadata": {},
   "outputs": [
    {
     "data": {
      "text/plain": [
       "0.5833333333333333"
      ]
     },
     "execution_count": 12,
     "metadata": {},
     "output_type": "execute_result"
    }
   ],
   "source": [
    "1/3+1/4"
   ]
  },
  {
   "cell_type": "code",
   "execution_count": 13,
   "metadata": {},
   "outputs": [
    {
     "data": {
      "text/plain": [
       "2.5142857142857142"
      ]
     },
     "execution_count": 13,
     "metadata": {},
     "output_type": "execute_result"
    }
   ],
   "source": [
    "5/7+9/5"
   ]
  },
  {
   "cell_type": "code",
   "execution_count": 14,
   "metadata": {},
   "outputs": [
    {
     "data": {
      "text/plain": [
       "2.0"
      ]
     },
     "execution_count": 14,
     "metadata": {},
     "output_type": "execute_result"
    }
   ],
   "source": [
    "from math import *\n",
    "sqrt(4)"
   ]
  },
  {
   "cell_type": "markdown",
   "metadata": {},
   "source": [
    "# I. Mes premiers pas avec un Notebook"
   ]
  },
  {
   "cell_type": "markdown",
   "metadata": {},
   "source": [
    "## I.1.Mes premiers essais de titre"
   ]
  },
  {
   "cell_type": "markdown",
   "metadata": {},
   "source": [
    "### premier essai de boucle \"for\""
   ]
  },
  {
   "cell_type": "code",
   "execution_count": 15,
   "metadata": {},
   "outputs": [
    {
     "name": "stdout",
     "output_type": "stream",
     "text": [
      "120\n"
     ]
    }
   ],
   "source": [
    "a=0\n",
    "for i in range(16) :\n",
    "    a=a+i\n",
    "print (a)"
   ]
  },
  {
   "cell_type": "markdown",
   "metadata": {},
   "source": [
    "### premier essai de fonction"
   ]
  },
  {
   "cell_type": "code",
   "execution_count": 16,
   "metadata": {},
   "outputs": [],
   "source": [
    "def factorielle(n) :\n",
    "    fact = 1\n",
    "    for i in range(2,n+1) :\n",
    "        fact=fact*i\n",
    "    return fact\n",
    "    "
   ]
  },
  {
   "cell_type": "code",
   "execution_count": 17,
   "metadata": {},
   "outputs": [
    {
     "data": {
      "text/plain": [
       "24"
      ]
     },
     "execution_count": 17,
     "metadata": {},
     "output_type": "execute_result"
    }
   ],
   "source": [
    "factorielle(4)"
   ]
  },
  {
   "cell_type": "code",
   "execution_count": 18,
   "metadata": {},
   "outputs": [
    {
     "data": {
      "text/plain": [
       "3628800"
      ]
     },
     "execution_count": 18,
     "metadata": {},
     "output_type": "execute_result"
    }
   ],
   "source": [
    "factorielle(10)"
   ]
  },
  {
   "cell_type": "code",
   "execution_count": 19,
   "metadata": {},
   "outputs": [
    {
     "data": {
      "text/plain": [
       "93326215443944152681699238856266700490715968264381621468592963895217599993229915608941463976156518286253697920827223758251185210916864000000000000000000000000"
      ]
     },
     "execution_count": 19,
     "metadata": {},
     "output_type": "execute_result"
    }
   ],
   "source": [
    "factorielle(100)"
   ]
  },
  {
   "cell_type": "code",
   "execution_count": 20,
   "metadata": {},
   "outputs": [],
   "source": [
    "#le grand theoreme de Fermat dit qu'il n'y a pas de solutions pour ce problème.\n",
    "for a in range(1,200) :\n",
    "    for b in range(a+1,200) :\n",
    "        for c in range(b+1,200) :\n",
    "            if a**3 + b**3 == c**3 :\n",
    "                print(a,b,c)"
   ]
  },
  {
   "cell_type": "code",
   "execution_count": null,
   "metadata": {},
   "outputs": [
    {
     "name": "stdout",
     "output_type": "stream",
     "text": [
      "1 6 8 9\n",
      "1 71 138 144\n",
      "1 135 138 172\n",
      "2 12 16 18\n",
      "2 17 40 41\n",
      "2 142 276 288\n",
      "2 270 276 344\n",
      "3 4 5 6\n",
      "3 10 18 19\n",
      "3 18 24 27\n",
      "3 34 114 115\n",
      "3 36 37 46\n",
      "3 121 131 159\n",
      "3 213 414 432\n",
      "3 214 309 340\n",
      "3 245 340 378\n",
      "4 17 22 25\n",
      "4 24 32 36\n",
      "4 34 80 82\n",
      "4 57 248 249\n",
      "5 30 40 45\n",
      "5 76 123 132\n",
      "5 86 460 461\n",
      "5 163 164 206\n",
      "5 216 436 453\n",
      "5 232 307 346\n",
      "6 8 10 12\n",
      "6 20 36 38\n",
      "6 32 33 41\n",
      "6 36 48 54\n",
      "6 51 120 123\n",
      "6 68 228 230\n",
      "6 72 74 92\n",
      "6 127 180 199\n",
      "6 179 216 251\n",
      "6 242 262 318\n",
      "7 14 17 20\n",
      "7 42 56 63\n",
      "7 54 57 70\n",
      "7 119 303 309\n",
      "8 34 44 50\n",
      "8 48 64 72\n",
      "8 68 160 164\n",
      "8 114 496 498\n",
      "8 229 236 293\n",
      "9 12 15 18\n",
      "9 30 54 57\n",
      "9 54 72 81\n",
      "9 55 116 120\n",
      "9 58 255 256\n",
      "9 102 342 345\n",
      "9 108 111 138\n",
      "9 183 220 256\n",
      "9 363 393 477\n",
      "10 60 80 90\n",
      "10 85 200 205\n",
      "10 152 246 264\n",
      "10 261 323 372\n",
      "10 326 328 412\n",
      "11 15 27 29\n",
      "11 66 88 99\n",
      "12 16 20 24\n",
      "12 19 53 54\n",
      "12 31 102 103\n",
      "12 40 72 76\n",
      "12 51 66 75\n",
      "12 64 66 82\n",
      "12 72 96 108\n",
      "12 81 136 145\n",
      "12 86 159 167\n",
      "12 102 240 246\n",
      "12 136 456 460\n",
      "12 144 148 184\n",
      "12 238 315 355\n",
      "12 254 360 398\n",
      "13 51 104 108\n",
      "13 65 121 127\n",
      "13 78 104 117\n",
      "14 23 70 71\n",
      "14 28 34 40\n",
      "14 84 112 126\n",
      "14 108 114 140\n",
      "14 119 280 287\n",
      "14 189 264 293\n",
      "15 20 25 30\n",
      "15 42 49 58\n",
      "15 50 90 95\n",
      "15 64 297 298\n",
      "15 82 89 108\n",
      "15 90 120 135\n",
      "15 114 230 239\n",
      "15 180 185 230\n",
      "15 213 281 317\n",
      "15 228 369 396\n",
      "16 23 41 44\n",
      "16 47 108 111\n",
      "16 51 213 214\n",
      "16 68 88 100\n",
      "16 96 128 144\n",
      "16 136 320 328\n",
      "17 40 86 89\n",
      "17 57 177 179\n",
      "17 102 136 153\n",
      "17 175 380 392\n",
      "17 191 274 302\n",
      "18 19 21 28\n",
      "18 24 30 36\n",
      "18 60 108 114\n",
      "18 96 99 123\n",
      "18 108 144 162\n",
      "18 110 232 240\n",
      "18 121 167 186\n",
      "18 137 412 417\n",
      "18 153 360 369\n",
      "18 167 193 228\n",
      "18 193 423 436\n",
      "18 216 222 276\n",
      "18 349 426 493\n",
      "19 53 90 96\n",
      "19 60 69 82\n",
      "19 92 101 122\n",
      "19 93 258 262\n",
      "19 114 152 171\n",
      "19 362 365 458\n",
      "20 54 79 87\n",
      "20 85 110 125\n",
      "20 89 487 488\n",
      "20 109 379 382\n",
      "20 120 160 180\n",
      "20 151 353 362\n",
      "20 170 400 410\n",
      "21 28 35 42\n",
      "21 42 51 60\n",
      "21 43 84 88\n",
      "21 46 188 189\n",
      "21 70 126 133\n",
      "21 126 168 189\n",
      "21 162 171 210\n",
      "21 252 259 322\n",
      "22 30 54 58\n",
      "22 51 54 67\n",
      "22 57 255 256\n",
      "22 75 140 147\n",
      "22 132 176 198\n",
      "22 187 440 451\n",
      "22 320 353 425\n",
      "23 81 300 302\n",
      "23 86 97 116\n",
      "23 94 105 126\n",
      "23 102 265 270\n",
      "23 138 184 207\n",
      "23 178 200 239\n",
      "24 32 40 48\n",
      "24 38 106 108\n",
      "24 62 204 206\n",
      "24 80 144 152\n",
      "24 102 132 150\n",
      "24 128 132 164\n",
      "24 144 192 216\n",
      "24 159 382 391\n",
      "24 162 272 290\n",
      "24 172 318 334\n",
      "24 197 379 396\n",
      "24 204 480 492\n",
      "24 288 296 368\n",
      "25 31 86 88\n",
      "25 38 87 90\n",
      "25 48 74 81\n",
      "25 68 190 193\n",
      "25 92 167 176\n",
      "25 150 200 225\n",
      "26 55 78 87\n",
      "26 102 208 216\n",
      "26 130 242 254\n",
      "26 156 208 234\n",
      "26 312 397 453\n",
      "27 30 37 46\n",
      "27 36 45 54\n",
      "27 46 197 198\n",
      "27 64 306 307\n",
      "27 90 162 171\n",
      "27 162 216 243\n",
      "27 165 348 360\n",
      "27 232 317 354\n",
      "27 324 333 414\n",
      "28 46 140 142\n",
      "28 53 75 84\n",
      "28 56 68 80\n",
      "28 119 154 175\n",
      "28 168 224 252\n",
      "28 216 228 280\n",
      "29 34 44 53\n",
      "29 75 96 110\n",
      "29 174 232 261\n",
      "30 40 50 60\n",
      "30 84 98 116\n",
      "30 100 180 190\n",
      "30 160 165 205\n",
      "30 164 178 216\n",
      "30 180 240 270\n",
      "30 228 460 478\n",
      "30 266 427 459\n",
      "30 360 370 460\n",
      "31 33 72 76\n",
      "31 64 137 142\n",
      "31 95 219 225\n",
      "31 186 248 279\n",
      "31 248 270 327\n",
      "32 46 82 88\n",
      "32 54 85 93\n",
      "32 94 216 222\n",
      "32 102 426 428\n",
      "32 136 176 200\n",
      "32 192 256 288\n",
      "32 310 335 407\n",
      "33 44 55 66\n",
      "33 45 81 87\n",
      "33 70 92 105\n",
      "33 110 198 209\n",
      "33 198 264 297\n",
      "34 39 65 72\n",
      "34 80 172 178\n",
      "34 114 354 358\n",
      "34 123 173 192\n",
      "34 204 272 306\n",
      "35 70 85 100\n",
      "35 77 202 206\n",
      "35 210 280 315\n",
      "35 270 285 350\n",
      "36 38 42 56\n",
      "36 38 61 69\n",
      "36 48 60 72\n",
      "36 57 159 162\n",
      "36 93 306 309\n",
      "36 120 216 228\n",
      "36 147 341 350\n",
      "36 153 198 225\n",
      "36 192 198 246\n",
      "36 216 288 324\n",
      "36 220 464 480\n",
      "36 242 334 372\n",
      "36 243 408 435\n",
      "36 334 386 456\n",
      "37 222 296 333\n",
      "38 43 66 75\n",
      "38 48 79 87\n",
      "38 57 124 129\n",
      "38 106 180 192\n",
      "38 120 138 164\n",
      "38 184 202 244\n",
      "38 228 304 342\n",
      "38 295 337 400\n",
      "39 52 65 78\n",
      "39 130 234 247\n",
      "39 146 156 191\n",
      "39 153 312 324\n",
      "39 195 363 381\n",
      "39 234 312 351\n",
      "40 108 158 174\n",
      "40 141 366 373\n",
      "40 170 220 250\n",
      "40 203 309 336\n",
      "40 240 320 360\n",
      "40 273 303 364\n",
      "41 114 319 324\n",
      "41 246 328 369\n",
      "42 56 70 84\n",
      "42 69 210 213\n",
      "42 83 205 210\n",
      "42 84 102 120\n",
      "42 86 168 176\n",
      "42 92 376 378\n",
      "42 140 252 266\n",
      "42 181 315 334\n",
      "42 224 231 287\n",
      "42 252 336 378\n",
      "42 324 342 420\n",
      "43 258 344 387\n",
      "44 51 118 123\n",
      "44 60 108 116\n",
      "44 73 128 137\n",
      "44 102 108 134\n",
      "44 150 280 294\n",
      "44 187 242 275\n",
      "44 199 300 327\n",
      "44 264 352 396\n",
      "45 53 199 201\n",
      "45 60 75 90\n",
      "45 69 79 97\n",
      "45 126 147 174\n",
      "45 150 270 285\n",
      "45 246 267 324\n",
      "45 270 360 405\n",
      "46 47 148 151\n",
      "46 126 201 217\n",
      "46 172 194 232\n",
      "46 188 210 252\n",
      "46 276 368 414\n",
      "46 356 400 478\n",
      "47 75 295 297\n",
      "47 97 162 174\n",
      "47 282 376 423\n",
      "47 350 406 479\n",
      "48 64 80 96\n",
      "48 69 123 132\n",
      "48 76 212 216\n",
      "48 85 491 492\n",
      "48 124 408 412\n",
      "48 133 147 178\n",
      "48 137 142 177\n",
      "48 141 324 333\n",
      "48 160 288 304\n",
      "48 204 264 300\n",
      "48 256 264 328\n",
      "48 268 285 349\n",
      "48 288 384 432\n",
      "49 80 263 266\n",
      "49 84 102 121\n",
      "49 98 119 140\n",
      "49 122 462 465\n",
      "49 294 392 441\n",
      "49 378 399 490\n",
      "50 61 64 85\n",
      "50 62 172 176\n",
      "50 67 216 219\n",
      "50 74 97 113\n",
      "50 76 174 180\n",
      "50 96 148 162\n",
      "50 136 380 386\n",
      "50 172 257 281\n",
      "50 184 285 309\n",
      "50 184 334 352\n",
      "50 300 400 450\n",
      "51 68 85 102\n",
      "51 82 477 478\n",
      "51 120 258 267\n",
      "51 152 190 219\n",
      "51 170 306 323\n",
      "51 232 461 480\n",
      "51 306 408 459\n",
      "52 110 156 174\n",
      "52 204 416 432\n",
      "52 221 286 325\n",
      "52 312 416 468\n",
      "53 58 194 197\n",
      "53 153 291 305\n",
      "53 318 424 477\n",
      "54 57 63 84\n",
      "54 60 74 92\n",
      "54 72 90 108\n",
      "54 80 163 171\n",
      "54 92 394 396\n",
      "54 152 387 395\n",
      "54 163 204 235\n",
      "54 180 324 342\n",
      "54 183 478 487\n",
      "54 288 297 369\n",
      "54 324 432 486\n",
      "55 75 135 145\n",
      "55 113 296 302\n",
      "55 330 440 495\n",
      "56 61 210 213\n",
      "56 92 280 284\n",
      "56 102 223 231\n",
      "56 106 150 168\n",
      "56 112 136 160\n",
      "56 133 163 190\n",
      "56 238 308 350\n",
      "57 68 180 185\n",
      "57 76 95 114\n",
      "57 82 495 496\n",
      "57 126 280 289\n",
      "57 146 180 209\n",
      "57 159 270 288\n",
      "57 180 207 246\n",
      "57 190 342 361\n",
      "57 276 303 366\n",
      "58 59 69 90\n",
      "58 68 88 106\n",
      "58 75 453 454\n",
      "58 131 160 187\n",
      "58 150 192 220\n",
      "58 157 179 214\n",
      "58 201 255 292\n",
      "59 93 148 162\n",
      "60 80 100 120\n",
      "60 95 265 270\n",
      "60 162 237 261\n",
      "60 168 196 232\n",
      "60 200 360 380\n",
      "60 255 330 375\n",
      "60 320 330 410\n",
      "60 328 356 432\n",
      "60 342 395 467\n",
      "62 66 144 152\n",
      "62 128 274 284\n",
      "62 190 438 450\n",
      "63 84 105 126\n",
      "63 126 153 180\n",
      "63 129 252 264\n",
      "63 210 378 399\n",
      "64 75 477 478\n",
      "64 92 164 176\n",
      "64 107 405 408\n",
      "64 108 170 186\n",
      "64 188 432 444\n",
      "64 272 352 400\n",
      "65 87 142 156\n",
      "65 127 248 260\n",
      "66 88 110 132\n",
      "66 90 162 174\n",
      "66 117 260 269\n",
      "66 140 184 210\n",
      "66 153 162 201\n",
      "66 220 396 418\n",
      "66 225 420 441\n",
      "66 352 363 451\n",
      "67 167 177 219\n",
      "68 78 130 144\n",
      "68 113 166 185\n",
      "68 160 344 356\n",
      "68 246 346 384\n",
      "68 289 374 425\n",
      "69 92 115 138\n",
      "69 99 146 164\n",
      "69 123 124 160\n",
      "69 230 414 437\n",
      "69 258 291 348\n",
      "69 282 315 378\n",
      "69 328 387 454\n",
      "70 115 350 355\n",
      "70 140 170 200\n",
      "70 154 404 412\n",
      "71 73 138 150\n",
      "71 81 384 386\n",
      "71 150 262 279\n",
      "71 177 262 288\n",
      "72 76 84 112\n",
      "72 76 122 138\n",
      "72 85 122 141\n",
      "72 96 120 144\n",
      "72 114 318 324\n",
      "72 157 446 453\n",
      "72 240 432 456\n",
      "72 257 327 374\n",
      "72 306 396 450\n",
      "72 384 396 492\n",
      "73 120 314 321\n",
      "73 123 431 435\n",
      "73 135 170 198\n",
      "73 174 207 244\n",
      "75 93 258 264\n",
      "75 100 125 150\n",
      "75 114 261 270\n",
      "75 144 222 243\n",
      "75 210 245 290\n",
      "75 250 450 475\n",
      "75 366 410 491\n",
      "76 86 132 150\n",
      "76 96 158 174\n",
      "76 114 248 258\n",
      "76 141 171 202\n",
      "76 165 192 229\n",
      "76 212 360 384\n",
      "76 240 276 328\n",
      "76 323 418 475\n",
      "76 368 404 488\n",
      "77 105 189 203\n",
      "77 154 187 220\n",
      "78 104 130 156\n",
      "78 165 234 261\n",
      "78 172 195 235\n",
      "78 260 468 494\n",
      "78 292 312 382\n",
      "79 245 357 393\n",
      "80 115 205 220\n",
      "80 216 316 348\n",
      "80 219 388 411\n",
      "81 90 111 138\n",
      "81 108 135 162\n",
      "81 147 167 203\n",
      "81 202 239 282\n",
      "84 112 140 168\n",
      "84 133 371 378\n",
      "84 138 420 426\n",
      "84 159 225 252\n",
      "84 166 410 420\n",
      "84 168 204 240\n",
      "84 172 336 352\n",
      "85 107 220 232\n",
      "85 138 171 202\n",
      "85 200 430 445\n",
      "85 353 397 475\n",
      "86 95 97 134\n",
      "87 102 132 159\n",
      "87 116 145 174\n",
      "87 150 382 391\n",
      "87 225 288 330\n",
      "87 297 316 388\n",
      "88 95 412 415\n",
      "88 102 236 246\n",
      "88 120 216 232\n",
      "88 146 256 274\n",
      "88 204 216 268\n",
      "88 222 291 331\n",
      "89 231 456 476\n",
      "90 95 105 140\n",
      "90 106 398 402\n",
      "90 120 150 180\n",
      "90 138 158 194\n",
      "90 252 294 348\n",
      "91 182 221 260\n",
      "92 94 296 302\n",
      "92 252 402 434\n",
      "92 344 388 464\n",
      "93 99 216 228\n",
      "93 124 155 186\n",
      "93 155 180 218\n",
      "93 192 411 426\n",
      "93 242 244 309\n",
      "94 96 99 139\n",
      "94 149 387 396\n",
      "94 194 324 348\n",
      "95 196 248 287\n",
      "95 229 327 363\n",
      "95 265 450 480\n",
      "95 300 345 410\n",
      "96 107 141 170\n",
      "96 128 160 192\n",
      "96 138 246 264\n",
      "96 152 424 432\n",
      "96 162 255 279\n",
      "96 163 198 235\n",
      "96 266 294 356\n",
      "96 274 284 354\n",
      "97 320 415 472\n",
      "97 333 389 459\n",
      "98 136 207 231\n",
      "98 161 490 497\n",
      "98 168 204 242\n",
      "98 196 238 280\n",
      "99 132 165 198\n",
      "99 135 243 261\n",
      "99 200 349 372\n",
      "99 210 276 315\n",
      "99 236 349 384\n",
      "100 122 128 170\n",
      "100 124 344 352\n",
      "100 134 432 438\n",
      "100 148 194 226\n",
      "100 152 348 360\n",
      "100 192 296 324\n",
      "100 213 323 354\n",
      "100 242 447 471\n",
      "100 270 395 435\n",
      "101 178 219 258\n",
      "102 117 195 216\n",
      "102 136 170 204\n",
      "102 157 192 229\n",
      "102 194 279 311\n",
      "102 227 277 324\n",
      "102 304 380 438\n",
      "103 140 204 231\n",
      "104 150 429 437\n",
      "104 220 312 348\n",
      "105 140 175 210\n",
      "105 196 290 321\n",
      "105 210 255 300\n",
      "105 215 420 440\n",
      "105 294 343 406\n",
      "106 116 388 394\n",
      "106 185 335 356\n",
      "106 227 229 292\n",
      "107 108 136 171\n",
      "107 209 337 365\n",
      "107 230 277 326\n",
      "107 292 362 419\n",
      "107 306 381 440\n",
      "108 109 150 181\n",
      "108 114 126 168\n",
      "108 114 183 207\n",
      "108 120 148 184\n",
      "108 142 165 205\n",
      "108 144 180 216\n",
      "108 160 326 342\n",
      "108 163 170 219\n",
      "108 171 477 486\n",
      "108 267 365 410\n",
      "108 326 408 470\n",
      "109 170 475 484\n",
      "109 293 437 479\n",
      "110 150 270 290\n",
      "110 255 270 335\n",
      "111 148 185 222\n",
      "111 148 465 472\n",
      "112 122 420 426\n",
      "112 161 287 308\n",
      "112 204 446 462\n",
      "112 212 300 336\n",
      "112 224 272 320\n",
      "112 266 326 380\n",
      "113 116 271 284\n",
      "113 124 220 241\n",
      "113 146 166 209\n",
      "113 166 207 246\n",
      "113 264 463 492\n",
      "114 129 198 225\n",
      "114 136 360 370\n",
      "114 144 237 261\n",
      "114 152 190 228\n",
      "114 171 372 387\n",
      "114 261 355 400\n",
      "114 292 360 418\n",
      "114 360 414 492\n",
      "115 122 149 188\n",
      "115 366 384 475\n",
      "116 118 138 180\n",
      "116 136 176 212\n",
      "116 262 320 374\n",
      "116 271 305 368\n",
      "116 300 384 440\n",
      "116 314 358 428\n",
      "117 156 195 234\n",
      "118 160 485 493\n",
      "118 186 296 324\n",
      "118 225 324 361\n",
      "119 238 289 340\n",
      "119 268 321 378\n",
      "120 160 200 240\n",
      "120 336 392 464\n",
      "121 122 360 369\n",
      "121 165 297 319\n",
      "123 125 208 234\n",
      "123 136 453 460\n",
      "123 164 205 246\n",
      "123 168 490 499\n",
      "123 197 388 408\n",
      "123 276 316 379\n",
      "124 132 288 304\n",
      "125 155 430 440\n",
      "125 190 435 450\n",
      "125 240 370 405\n",
      "126 133 147 196\n",
      "126 168 210 252\n",
      "126 252 306 360\n",
      "127 188 432 447\n",
      "127 204 321 352\n",
      "128 184 328 352\n",
      "128 216 340 372\n",
      "129 172 215 258\n",
      "130 174 284 312\n",
      "130 275 390 435\n",
      "131 212 445 464\n",
      "131 261 400 438\n",
      "132 153 354 369\n",
      "132 176 220 264\n",
      "132 180 324 348\n",
      "132 219 384 411\n",
      "132 280 368 420\n",
      "132 306 324 402\n",
      "133 266 323 380\n",
      "134 151 353 368\n",
      "134 334 354 438\n",
      "135 150 185 230\n",
      "135 164 304 327\n",
      "135 177 376 394\n",
      "135 180 225 270\n",
      "135 188 414 431\n",
      "135 207 237 291\n",
      "136 156 260 288\n",
      "136 226 332 370\n",
      "138 141 444 453\n",
      "138 145 375 388\n",
      "138 178 407 423\n",
      "138 184 230 276\n",
      "138 198 292 328\n",
      "138 200 223 279\n",
      "138 239 418 447\n",
      "138 246 248 320\n",
      "139 309 428 480\n",
      "140 151 161 218\n",
      "140 265 375 420\n",
      "140 280 340 400\n",
      "141 188 235 282\n",
      "141 272 330 389\n",
      "142 146 276 300\n",
      "142 362 369 465\n",
      "143 195 351 377\n",
      "144 152 168 224\n",
      "144 152 244 276\n",
      "144 170 244 282\n",
      "144 179 405 422\n",
      "144 192 240 288\n",
      "144 207 369 396\n",
      "144 227 277 330\n",
      "145 170 220 265\n",
      "145 179 267 303\n",
      "146 270 340 396\n",
      "146 348 414 488\n",
      "147 157 186 238\n",
      "147 196 245 294\n",
      "147 232 357 394\n",
      "147 252 306 363\n",
      "147 294 357 420\n",
      "149 166 411 426\n",
      "149 256 363 408\n",
      "149 336 427 492\n",
      "150 183 192 255\n",
      "150 200 250 300\n",
      "150 222 291 339\n",
      "150 288 444 486\n",
      "151 162 272 303\n",
      "152 158 229 269\n",
      "152 172 264 300\n",
      "152 192 316 348\n",
      "152 219 270 323\n",
      "152 282 342 404\n",
      "152 330 384 458\n",
      "153 204 255 306\n",
      "154 210 378 406\n",
      "154 251 357 402\n",
      "154 308 374 440\n",
      "154 357 378 469\n",
      "155 165 360 380\n",
      "156 208 260 312\n",
      "156 344 390 470\n",
      "158 171 228 275\n",
      "158 241 295 352\n",
      "159 212 265 318\n",
      "159 214 228 295\n",
      "160 191 356 383\n",
      "160 230 410 440\n",
      "160 243 389 426\n",
      "160 270 425 465\n",
      "160 326 387 459\n",
      "161 322 391 460\n",
      "162 171 189 252\n",
      "162 173 282 317\n",
      "162 180 222 276\n",
      "162 216 270 324\n",
      "162 294 334 406\n",
      "163 164 197 254\n",
      "165 220 275 330\n",
      "165 225 405 435\n",
      "168 224 280 336\n",
      "168 268 321 385\n",
      "168 336 408 480\n",
      "169 234 380 417\n",
      "170 195 325 360\n",
      "170 214 440 464\n",
      "170 276 342 404\n",
      "171 228 285 342\n",
      "171 282 349 412\n",
      "172 190 194 268\n",
      "173 214 267 324\n",
      "173 232 339 384\n",
      "174 177 207 270\n",
      "174 204 264 318\n",
      "174 232 290 348\n",
      "174 239 297 356\n",
      "174 247 284 351\n",
      "176 204 472 492\n",
      "176 240 432 464\n",
      "176 253 451 484\n",
      "177 236 295 354\n",
      "177 276 343 406\n",
      "177 279 444 486\n",
      "178 188 401 425\n",
      "178 295 329 406\n",
      "179 188 229 290\n",
      "179 267 447 485\n",
      "180 190 210 280\n",
      "180 190 305 345\n",
      "180 197 379 408\n",
      "180 240 300 360\n",
      "180 276 316 388\n",
      "183 192 290 335\n",
      "183 201 220 292\n",
      "183 244 305 366\n",
      "185 207 346 384\n",
      "185 218 271 332\n",
      "186 198 432 456\n",
      "186 236 313 369\n",
      "186 248 310 372\n",
      "186 310 360 436\n",
      "187 255 459 493\n",
      "188 192 198 278\n",
      "189 210 259 322\n",
      "189 252 315 378\n",
      "190 215 330 375\n",
      "190 240 395 435\n",
      "190 279 449 492\n",
      "191 290 361 428\n",
      "191 332 409 482\n",
      "191 354 376 471\n",
      "192 214 282 340\n",
      "192 249 263 344\n",
      "192 256 320 384\n",
      "192 326 396 470\n",
      "193 276 446 489\n",
      "195 260 325 390\n",
      "195 261 426 468\n",
      "196 272 414 462\n",
      "196 336 408 484\n",
      "198 209 231 308\n",
      "198 264 330 396\n",
      "200 239 388 431\n",
      "200 244 256 340\n",
      "200 296 388 452\n",
      "201 268 335 402\n",
      "202 261 396 445\n",
      "203 238 308 371\n",
      "204 234 390 432\n",
      "204 272 340 408\n",
      "204 314 384 458\n",
      "206 280 408 462\n",
      "207 276 345 414\n",
      "207 297 438 492\n",
      "207 369 372 480\n",
      "210 280 350 420\n",
      "213 219 414 450\n",
      "213 284 355 426\n",
      "213 323 334 432\n",
      "214 216 272 342\n",
      "215 218 409 446\n",
      "216 218 300 362\n",
      "216 228 252 336\n",
      "216 228 366 414\n",
      "216 240 296 368\n",
      "216 255 366 423\n",
      "216 284 330 410\n",
      "216 288 360 432\n",
      "216 326 340 438\n",
      "219 223 443 477\n",
      "219 269 370 432\n",
      "219 292 365 438\n",
      "222 296 370 444\n",
      "225 300 375 450\n",
      "225 345 395 485\n",
      "226 248 440 482\n",
      "226 292 332 418\n",
      "226 332 414 492\n",
      "227 230 277 356\n",
      "228 258 396 450\n",
      "228 304 380 456\n",
      "230 244 298 376\n",
      "231 308 385 462\n",
      "232 236 276 360\n",
      "232 272 352 424\n",
      "233 279 424 480\n",
      "234 247 273 364\n",
      "234 260 397 453\n",
      "234 312 390 468\n",
      "235 236 362 419\n",
      "237 316 395 474\n",
      "240 271 305 396\n",
      "240 320 400 480\n",
      "242 262 285 381\n",
      "243 270 333 414\n",
      "243 324 405 486\n",
      "243 358 389 492\n",
      "246 250 416 468\n",
      "246 328 410 492\n",
      "249 332 415 498\n",
      "250 305 320 425\n",
      "252 266 294 392\n",
      "252 266 427 483\n",
      "254 327 412 495\n",
      "256 311 398 479\n",
      "258 285 291 402\n",
      "260 369 375 494\n",
      "261 306 396 477\n"
     ]
    }
   ],
   "source": [
    "for a in range(1,500) :\n",
    "    for b in range(a+1,500) :\n",
    "        for c in range(b+1,500) :\n",
    "            for d in range(c+1,500) :\n",
    "                if a**3 + b**3 + c**3 == d**3 :\n",
    "                    print(a,b,c,d)"
   ]
  },
  {
   "cell_type": "markdown",
   "metadata": {},
   "source": [
    "### Deuxième essai de fonction\n",
    "#### Une fonction somme des n premiers entiers"
   ]
  },
  {
   "cell_type": "code",
   "execution_count": null,
   "metadata": {},
   "outputs": [],
   "source": [
    "def somme_int(n) : \n",
    "    sumint=0\n",
    "    for i in range (1,n+1) :\n",
    "        sumint=sumint+i\n",
    "    return sumint"
   ]
  },
  {
   "cell_type": "code",
   "execution_count": null,
   "metadata": {},
   "outputs": [],
   "source": [
    "somme_int(5)"
   ]
  },
  {
   "cell_type": "code",
   "execution_count": null,
   "metadata": {},
   "outputs": [],
   "source": [
    "somme_int(1254789)"
   ]
  },
  {
   "cell_type": "markdown",
   "metadata": {},
   "source": [
    "### Troisième et quatrième essais de fonction\n",
    "#### Une fonction somme des n premiers cubes et une fonction somme des n premiers entiers impairs"
   ]
  },
  {
   "cell_type": "code",
   "execution_count": null,
   "metadata": {},
   "outputs": [],
   "source": [
    "def somme_cubes_int(n) : \n",
    "    sumcubint=0\n",
    "    for i in range (1,n+1) :\n",
    "        sumcubint=sumcubint+i**3\n",
    "    return sumcubint"
   ]
  },
  {
   "cell_type": "code",
   "execution_count": null,
   "metadata": {},
   "outputs": [],
   "source": [
    "somme_cubes_int(5)"
   ]
  },
  {
   "cell_type": "code",
   "execution_count": null,
   "metadata": {},
   "outputs": [],
   "source": [
    "somme_cubes_int(2)"
   ]
  },
  {
   "cell_type": "code",
   "execution_count": null,
   "metadata": {},
   "outputs": [],
   "source": [
    "def somme_odd_int(n) : \n",
    "    sumoddint=0\n",
    "    for i in range (n) :\n",
    "        sumoddint=sumoddint+2*i+1\n",
    "    return sumoddint"
   ]
  },
  {
   "cell_type": "code",
   "execution_count": null,
   "metadata": {},
   "outputs": [],
   "source": [
    "somme_odd_int(3)"
   ]
  },
  {
   "cell_type": "markdown",
   "metadata": {},
   "source": [
    "### Fonctions Géométriques \n",
    "- une fonction qui calcule le périmètre d'un triangle, l'aire d'un triangle\n",
    "- une fonction qui teste l'inégalité triangulaire ? qui <font color='green'>d'abord sait quelles sont les plus petites longueurs...</font> \n",
    "- une fonction de prof qui, pour une distance donnée, retourne les quatre coordonnées entières de deux points A et B \n",
    "\n",
    "\n",
    "### Fonctions Arithmétiques\n",
    "- une fonction pgcd ?  <font color='red'>avec une liste de restes de division euclidienne ?</font>\n",
    "- une fonction ppcm (qui utiliserait la fonction pgcd) ?\n",
    "- une fonction qui donne les coefficients de Bezout ? avec une liste de restes de division euclidienne\n",
    "- une fonction qui effectue la décomposition en facteurs premiers ?\n",
    "- une fonction qui donne la liste des diviseurs ?\n",
    "\n",
    "### Suites Numériques\n",
    "- Suite de Fibonacci  <font color='red'>OK DONE</font>\n",
    "\n",
    "### Autres\n",
    "- puissances de matrices? suites de matrices ? ancien programme de spé ?\n",
    "- nombres complexes ?\n",
    "- resolution de l'équation du second degré réelle ?\n"
   ]
  },
  {
   "cell_type": "markdown",
   "metadata": {},
   "source": [
    "Comment obtenir : \n",
    "\n",
    "- passer de la valeur exacte à la valeur décimale avec une précision donnée"
   ]
  },
  {
   "cell_type": "code",
   "execution_count": null,
   "metadata": {},
   "outputs": [],
   "source": [
    "a=3\n",
    "b=2\n",
    "a/b"
   ]
  },
  {
   "cell_type": "code",
   "execution_count": null,
   "metadata": {},
   "outputs": [],
   "source": [
    "a=3\n",
    "b=2\n",
    "a//b"
   ]
  },
  {
   "cell_type": "code",
   "execution_count": null,
   "metadata": {},
   "outputs": [],
   "source": [
    ">>> from math import fabs, gcd, floor\n",
    "a=-3.5\n",
    "b=7\n",
    "c=9\n",
    "print(fabs(a))\n",
    "print(floor(a))\n",
    "print(gcd(b,c))"
   ]
  },
  {
   "cell_type": "code",
   "execution_count": null,
   "metadata": {},
   "outputs": [],
   "source": [
    ">>> from math import fabs\n",
    "def max(x,y) :\n",
    "    m=(fabs(x-y)+x+y)/2\n",
    "    return m\n"
   ]
  },
  {
   "cell_type": "code",
   "execution_count": null,
   "metadata": {},
   "outputs": [],
   "source": [
    "max(-3,15)"
   ]
  },
  {
   "cell_type": "code",
   "execution_count": null,
   "metadata": {},
   "outputs": [],
   "source": [
    "max(42,5)"
   ]
  },
  {
   "cell_type": "code",
   "execution_count": null,
   "metadata": {},
   "outputs": [],
   "source": [
    "max(-78,-96)"
   ]
  },
  {
   "cell_type": "code",
   "execution_count": null,
   "metadata": {},
   "outputs": [],
   "source": [
    "1/3"
   ]
  },
  {
   "cell_type": "code",
   "execution_count": null,
   "metadata": {},
   "outputs": [],
   "source": [
    "13/17"
   ]
  },
  {
   "cell_type": "code",
   "execution_count": null,
   "metadata": {},
   "outputs": [],
   "source": [
    "%precision 20"
   ]
  },
  {
   "cell_type": "code",
   "execution_count": null,
   "metadata": {},
   "outputs": [],
   "source": [
    "1/3"
   ]
  },
  {
   "cell_type": "markdown",
   "metadata": {},
   "source": [
    "Problème d'erreur à partir de la 16ème décimale. Donc la commande \"%precision 20\" ne modifie que l'affichage"
   ]
  },
  {
   "cell_type": "code",
   "execution_count": null,
   "metadata": {},
   "outputs": [],
   "source": [
    ">>> from math import *\n",
    "floor(pi)"
   ]
  },
  {
   "cell_type": "markdown",
   "metadata": {},
   "source": [
    "### Triangle de Pascal"
   ]
  },
  {
   "cell_type": "code",
   "execution_count": null,
   "metadata": {},
   "outputs": [],
   "source": [
    "n=int(input(\"Entrez le nombre de lignes du triangle de Pascal: \"))\n",
    "x=[]\n",
    "for i in range(n):\n",
    "    x.append([])\n",
    "    x[i].append(1)\n",
    "    for j in range(1,i):\n",
    "        x[i].append(x[i-1][j-1]+x[i-1][j])\n",
    "    if(n!=0):\n",
    "        x[i].append(1)\n",
    "for i in range(n):\n",
    "    print(\"   \"*(n-i),end=\" \",sep=\" \")\n",
    "    for j in range(0,i+1):\n",
    "        print('{0:6}'.format(x[i][j]),end=\" \",sep=\" \")\n",
    "    print()"
   ]
  },
  {
   "cell_type": "code",
   "execution_count": null,
   "metadata": {},
   "outputs": [],
   "source": [
    "n=int(input(\"Entrez le nombre de lignes du triangle de Pascal: \"))\n",
    "x=[]\n",
    "for i in range(n):\n",
    "    x.append([])\n",
    "    x[i].append(1)\n",
    "    for j in range(1,i):\n",
    "        x[i].append(x[i-1][j-1]+x[i-1][j])\n",
    "    if(n!=0):\n",
    "        x[i].append(1)\n",
    "for i in range(n):\n",
    "    print(\"   \"*(n-i))\n",
    "    for j in range(0,i+1):\n",
    "        print('{0:6}'.format(x[i][j]),end=\"\")\n",
    "    print()"
   ]
  },
  {
   "cell_type": "code",
   "execution_count": null,
   "metadata": {},
   "outputs": [],
   "source": [
    ">>> a = 0\n",
    ">>> while (a < 7):\n",
    "...    a = a + 1\n",
    "...    print(a)"
   ]
  },
  {
   "cell_type": "markdown",
   "metadata": {},
   "source": [
    "# Fonctions Numériques\n",
    "## Des fonctions pour augmenter la précision des résultats \n",
    "On veut plus un plus grand nombre de \"décimales\" :\n",
    "- pour les fractions et ainsi, observer la périodicité\n",
    "- pour les irrationnels :\n",
    "    - racine carrée des entiers premiers\n",
    "    - Pi, e et gamma,..."
   ]
  },
  {
   "cell_type": "code",
   "execution_count": null,
   "metadata": {},
   "outputs": [],
   "source": [
    "# on demande 1 000 décimales pour la fraction 1/7\n",
    "\n",
    "from decimal import *\n",
    "getcontext().prec = 1000\n",
    "f=Decimal(1)/Decimal(7)\n",
    "print(f)"
   ]
  },
  {
   "cell_type": "code",
   "execution_count": null,
   "metadata": {},
   "outputs": [],
   "source": [
    "# même chose avec la fraction 13/17\n",
    "\n",
    "from decimal import *\n",
    "getcontext().prec = 1000\n",
    "f=Decimal(13)/Decimal(17)\n",
    "print(f)"
   ]
  },
  {
   "cell_type": "code",
   "execution_count": null,
   "metadata": {},
   "outputs": [],
   "source": [
    "# même chose avec $\\sqrt{2}$\n",
    "\n",
    "from decimal import *\n",
    "from math import *\n",
    "getcontext().prec = 1000\n",
    "print(Decimal(2).sqrt())"
   ]
  },
  {
   "cell_type": "code",
   "execution_count": null,
   "metadata": {},
   "outputs": [],
   "source": [
    "sqrt(4)"
   ]
  },
  {
   "cell_type": "markdown",
   "metadata": {},
   "source": [
    "# Fonctions géométriques"
   ]
  },
  {
   "cell_type": "code",
   "execution_count": null,
   "metadata": {},
   "outputs": [],
   "source": [
    "# la fonction qui permet de calculer les coordonnées du milieu d'un segment\n",
    "\n",
    "import math\n",
    "\n",
    "xA = int(input(\"Donnez moi xA = \"))\n",
    "yA = int(input(\"Donnez moi yB = \"))\n",
    "xB = int(input(\"Donnez moi xB = \"))\n",
    "yB = int(input(\"Donnez moi yB = \"))\n",
    "\n",
    "distance = math.sqrt((xB - xA)**2 + (yB - yA)**2)\n",
    "\n",
    "print(\"Bonjour, la distance AB vaut \",distance)"
   ]
  },
  {
   "cell_type": "code",
   "execution_count": null,
   "metadata": {},
   "outputs": [],
   "source": [
    "# La fonction qui permet de calculer la distance entre deux points\n",
    "\n",
    "import math\n",
    "L=[]\n",
    "\n",
    "xA = int(input(\"Donnez moi xA = \"))\n",
    "yA = int(input(\"Donnez moi yB = \"))\n",
    "xB = int(input(\"Donnez moi xB = \"))\n",
    "yB = int(input(\"Donnez moi yB = \"))\n",
    "\n",
    "xI=(xA+xB)/2\n",
    "yI=(yA+yB)/2\n",
    "L=[xI,yI]\n",
    "\n",
    "print(\"Bonjour, les coordonnées du milieu I du segment [AB] sont \", L)"
   ]
  },
  {
   "cell_type": "markdown",
   "metadata": {},
   "source": [
    "# Suites"
   ]
  },
  {
   "cell_type": "code",
   "execution_count": null,
   "metadata": {},
   "outputs": [],
   "source": [
    "def u(n) :\n",
    "    u=1+((-1)**n)/n\n",
    "    return u"
   ]
  },
  {
   "cell_type": "code",
   "execution_count": null,
   "metadata": {},
   "outputs": [],
   "source": [
    "u(10)"
   ]
  },
  {
   "cell_type": "code",
   "execution_count": null,
   "metadata": {},
   "outputs": [],
   "source": [
    "n=20\n",
    "for i in range (1,n+1) :\n",
    "    print (u(i))"
   ]
  },
  {
   "cell_type": "markdown",
   "metadata": {},
   "source": [
    "## Suites récurrentes\n",
    "### Suites définies avec \"range\" comme fonction d'un indice\n",
    "#### Deux suites récurrentes qui convergent vers le Nombre d'Or"
   ]
  },
  {
   "cell_type": "code",
   "execution_count": null,
   "metadata": {},
   "outputs": [],
   "source": [
    "def goldenratio_1(n) :\n",
    "    x=1\n",
    "    for i in range(n) :\n",
    "        x=1+1/x\n",
    "    print(x)"
   ]
  },
  {
   "cell_type": "code",
   "execution_count": null,
   "metadata": {},
   "outputs": [],
   "source": [
    "goldenratio_1(40)"
   ]
  },
  {
   "cell_type": "code",
   "execution_count": null,
   "metadata": {},
   "outputs": [],
   "source": [
    "def goldenratio_2(n) :\n",
    "    x=1\n",
    "    for i in range(n) :\n",
    "        x=sqrt(1+x)\n",
    "    print(x)"
   ]
  },
  {
   "cell_type": "code",
   "execution_count": null,
   "metadata": {},
   "outputs": [],
   "source": [
    "goldenratio_2(40)"
   ]
  },
  {
   "cell_type": "markdown",
   "metadata": {},
   "source": [
    "#### Méthode de Héron pour $\\sqrt{2}$ et $\\sqrt{7}$"
   ]
  },
  {
   "cell_type": "code",
   "execution_count": null,
   "metadata": {},
   "outputs": [],
   "source": [
    "def racinededeux(n) :\n",
    "    x=1\n",
    "    for i in range(n) :\n",
    "        x=(1/2)*(x+2/x)\n",
    "        print(x)"
   ]
  },
  {
   "cell_type": "code",
   "execution_count": null,
   "metadata": {},
   "outputs": [],
   "source": [
    "racinededeux(20)"
   ]
  },
  {
   "cell_type": "code",
   "execution_count": null,
   "metadata": {},
   "outputs": [],
   "source": [
    "def racinedesept(n) :\n",
    "    x=1\n",
    "    for i in range(n) :\n",
    "        x=(1/2)*(x+7/x)\n",
    "        print(x)"
   ]
  },
  {
   "cell_type": "code",
   "execution_count": null,
   "metadata": {},
   "outputs": [],
   "source": [
    "racinedesept(20)"
   ]
  },
  {
   "cell_type": "markdown",
   "metadata": {},
   "source": [
    "### Fonctions Arithmétiques : autour des triplets Pythagoriciens\n",
    "Un triplet (a,b,c) d'entiers naturels non nuls est dit Pythagoricien si il satisfait aux deux conditions $a\\leq b \\leq c$ et $a^2+b^2=c^2$"
   ]
  },
  {
   "cell_type": "code",
   "execution_count": null,
   "metadata": {},
   "outputs": [],
   "source": [
    "# Triplets Pythagoriciens\n",
    "\n",
    "for i in range (1,101) :\n",
    "    for j in range(i,101) :\n",
    "        for k in range (j,101) :\n",
    "            if i**2 + j**2 == k**2 :\n",
    "                print (i,j,k)\n",
    "                                            # définir une liste puis :\n",
    "                                                # retirer de la liste tous les triplets \"multiples\"\n",
    "                                                # présenter le résultat sous la forme d'un tableau de 6 colonnes\n",
    "                                                # ranger par ordre croissant la suite des \"k\"\n",
    "                                            # cette fonction permet aussi de trouver des couples de points A et B \n",
    "                                            # à coordonnées entières tels que AB soit égale à un entier donné"
   ]
  },
  {
   "cell_type": "code",
   "execution_count": null,
   "metadata": {},
   "outputs": [],
   "source": [
    "# un algorithme qui permet de déterminer les triplets pythagoriciens de la forme (n, n+1, k)\n",
    "\n",
    "from math import *\n",
    "for k in range (2,100000) :\n",
    "    x=(-1+sqrt(2*k**2-1))/2\n",
    "    if x-floor(x)==0 :\n",
    "        print(floor(x),floor(x)+1,k)"
   ]
  },
  {
   "cell_type": "code",
   "execution_count": null,
   "metadata": {},
   "outputs": [],
   "source": [
    "# un algorithme qui permet de déterminer les triplets pythagoriciens de la forme (k, n, n+1)\n",
    "\n",
    "from math import *\n",
    "for k in range (1,10000) :\n",
    "    x=(sqrt(2*k+1))\n",
    "    if x-floor(x)==0 :\n",
    "        print(floor(x),k,k+1)"
   ]
  },
  {
   "cell_type": "code",
   "execution_count": null,
   "metadata": {},
   "outputs": [],
   "source": [
    "# une fonction qui donne l'écriture binaire d'un nombre entier donné\n",
    "\n",
    "def ecriturebinairede(n):\n",
    "    L=[]\n",
    "    L.append(n%2)\n",
    "    nombre=n\n",
    "    if n==0:\n",
    "        L=[0]\n",
    "    else :\n",
    "        N=int(1+floor(log2(n)))\n",
    "        while nombre!=0 and len(L)<=N-1:\n",
    "            quotient=nombre//2\n",
    "            reste=quotient%2\n",
    "            L.append(reste)\n",
    "            nombre=quotient\n",
    "    L.reverse()\n",
    "    return (L)"
   ]
  },
  {
   "cell_type": "code",
   "execution_count": null,
   "metadata": {},
   "outputs": [],
   "source": [
    "ecriturebinairede(9)"
   ]
  },
  {
   "cell_type": "code",
   "execution_count": null,
   "metadata": {},
   "outputs": [],
   "source": [
    "ecriturebinairede(11)"
   ]
  },
  {
   "cell_type": "code",
   "execution_count": null,
   "metadata": {},
   "outputs": [],
   "source": [
    "ecriturebinairede(2)"
   ]
  },
  {
   "cell_type": "code",
   "execution_count": null,
   "metadata": {},
   "outputs": [],
   "source": [
    "ecriturebinairede(100)"
   ]
  },
  {
   "cell_type": "code",
   "execution_count": null,
   "metadata": {},
   "outputs": [],
   "source": [
    "ecriturebinairede(0)"
   ]
  },
  {
   "cell_type": "code",
   "execution_count": null,
   "metadata": {},
   "outputs": [],
   "source": [
    "ecriturebinairede(1)"
   ]
  },
  {
   "cell_type": "code",
   "execution_count": null,
   "metadata": {},
   "outputs": [],
   "source": [
    "ecriturebinairede(1024)"
   ]
  },
  {
   "cell_type": "code",
   "execution_count": null,
   "metadata": {},
   "outputs": [],
   "source": [
    "bin(256)"
   ]
  },
  {
   "cell_type": "code",
   "execution_count": null,
   "metadata": {},
   "outputs": [],
   "source": [
    "bin(1024)"
   ]
  },
  {
   "cell_type": "code",
   "execution_count": null,
   "metadata": {},
   "outputs": [],
   "source": [
    "bin(11)"
   ]
  },
  {
   "cell_type": "code",
   "execution_count": null,
   "metadata": {},
   "outputs": [],
   "source": [
    "def test_primalité (n):\n",
    "    testprime=True\n",
    "    for k in range (2,n):\n",
    "        if n%k==0:\n",
    "            testprime=False\n",
    "    return(testprime)\n",
    "\n",
    "n=int(input(\"afficher l'écriture binaire de tous les nombres premiers inférieurs à:\"))\n",
    "M=[]\n",
    "L=[i for i in range (2,n+1) if test_primalité(i)==True]\n",
    "\n",
    "print(\"la liste des écritures binaires de tous les nombres premiers inférieurs à\",n, \"est :\", L)"
   ]
  },
  {
   "cell_type": "code",
   "execution_count": null,
   "metadata": {},
   "outputs": [],
   "source": [
    "def test_primalité (n):\n",
    "    testprime=True\n",
    "    for k in range (2,n):\n",
    "        if n%k==0:\n",
    "            testprime=False\n",
    "    return(testprime)\n",
    "\n",
    "n=int(input(\"afficher l'écriture binaire de tous les nombres premiers inférieurs à:\"))\n",
    "M=[]\n",
    "L=[i for i in range (2,n+1) if test_primalité(i)==True]\n",
    "\n",
    "for i in L :\n",
    "    print(bin(i))"
   ]
  },
  {
   "cell_type": "code",
   "execution_count": null,
   "metadata": {},
   "outputs": [],
   "source": []
  }
 ],
 "metadata": {
  "kernelspec": {
   "display_name": "Python 3",
   "language": "python",
   "name": "python3"
  },
  "language_info": {
   "codemirror_mode": {
    "name": "ipython",
    "version": 3
   },
   "file_extension": ".py",
   "mimetype": "text/x-python",
   "name": "python",
   "nbconvert_exporter": "python",
   "pygments_lexer": "ipython3",
   "version": "3.7.4"
  }
 },
 "nbformat": 4,
 "nbformat_minor": 2
}

{
 "cells": [
  {
   "cell_type": "markdown",
   "metadata": {},
   "source": [
    "<div class=\"alert alert-info\">\n",
    "\n",
    "# Découverte du module matplotlib\n",
    "\n",
    "Le **module matplotlib** est un module très complet. \n",
    "Ce module est nécessaire pour tracer des points, nuages de points, fonctions...\n",
    "\n",
    "### Explication de l'acronyme :\n",
    "\n",
    "* MAT : mathématique\n",
    "\n",
    "* PLOT : En anglais, PLOT signifie tracer point par point\n",
    "\n",
    "* LIB : librairy\n",
    "\n",
    "\n",
    "### A retenir : \n",
    "\n",
    "* les tracés se font \"point par point\", ce qui suppose de fournir à Python la liste de tous les points à tracer.\n",
    "\n",
    "Comme tous les modules, il faut le charger et plus précisément c'est un sous-module qui va nous intéresser : pyplot.\n",
    "\n",
    "Pour cela, nous n'allons pas charger toutes les fonctions comme d'habitude mais l'importer sous un nom plus court à utiliser. On utilisera donc :\n",
    "\n",
    "**from matplotlib.pyplot as plt**. \n",
    "\n",
    "Ce qui signifie que pour utiliser une fonction de ce module comme show() par exemple, on devra écrire plt.show() (puisqu'on a importé le module sous le nom plt).\n",
    "\n",
    "De plus, le **module matplotlib** est très lié à un autre module qui sert à faire du calcul numérique qui s'appelle numpy et qu'on import souvent sous le nom np.\n",
    "\n",
    "**import numpy as np**\n",
    "\n",
    "Pour résumer, pour représenter graphiquement des fonctions ou autres, il faudra mettre en en-tête :\n",
    "</div>"
   ]
  },
  {
   "cell_type": "code",
   "execution_count": null,
   "metadata": {},
   "outputs": [],
   "source": [
    "import numpy as np\n",
    "import matplotlib.pyplot as plt"
   ]
  },
  {
   "cell_type": "markdown",
   "metadata": {},
   "source": [
    "## Les fonctions de bases \n",
    "* **plt.show()** : Pour afficher le résultat. Toute les fonctions qui suivent servent à préparer le graphique mais si on ne demande pas de l'afficher, rien ne se passera (exactement comme la fonction print : aucun calcul ne s'affiche si on ne demande pas de l'afficher avec  print).\n",
    "\n",
    "* **plt.plot(liste_x,liste_y)** : Où liste_x est une liste de nombres [x_1, x_2, ..., x_n] et liste_y une liste de nombres [y_1, y_2, ..., y_n] avec le même nombre d'éléments. \n",
    "Alors plt.plot(liste_x,liste_y) placera les points de coordonnées (x_1,y_1), (x_2,y_2), ..., (x_n, y_n) et les reliera de proche en proche par un segment."
   ]
  },
  {
   "cell_type": "markdown",
   "metadata": {},
   "source": [
    "## TRACER DES POINTS\n",
    "Pour tracer des points avec matplotlib:\n",
    "\n",
    "* on a besoin de la commande plot() du module pyplot (=\"Python Plot\") de la bibliothèque matplotlib,\n",
    "* on fournit non pas la liste des coordonnées de ces points, mais la liste des abscisses de ces points ET la liste des ordonnées de ces points."
   ]
  },
  {
   "cell_type": "markdown",
   "metadata": {},
   "source": [
    "**Exemple** : Tracer les points de coordonnées (-1;2), (0;3), (2;4) et (5;-2)\n"
   ]
  },
  {
   "cell_type": "code",
   "execution_count": null,
   "metadata": {},
   "outputs": [],
   "source": [
    "import matplotlib.pyplot as plt   # on importe tout le module pyplot de matplotlib\n",
    "\n",
    "x=[-1,0,2,5]\t\t\t\t      # liste des abscisses des points\n",
    "y=[2,3,4,-2]\t\t         \t  # liste des ordonnées des points\n",
    "plt.plot(x,y,\".\")\t\t\t\t      # pour tracer juste des points (sans les relier)\n",
    "plt.savefig(\"graphique01.png\")        #sauvegarde de la figure \n",
    "\n",
    "plt.show() \t\t\t\t              # affiche la fenêtre graphique \n"
   ]
  },
  {
   "cell_type": "markdown",
   "metadata": {},
   "source": [
    "Dans ce graphique l'échelle se fait automatiquement mais il est posssible de fixer les axes.\n",
    "\n",
    "Il est possible de rajouter le titre du graphique ainsi qu'une grille\n",
    "\n",
    "* **plt.xlim(0,2)** définie la limite des abscisses\n",
    "* **plt.ylim(-25,0)** définie la limite des ordonées\n",
    "* **plt.title(\"Tracer un nuage de points)** affiche le titre\n",
    "* **plt.grid()** affiche la grille"
   ]
  },
  {
   "cell_type": "code",
   "execution_count": null,
   "metadata": {},
   "outputs": [],
   "source": [
    "#from matplotlib.pyplot import *\n",
    "import matplotlib.pyplot as plt \n",
    "x=[-1,0,2,5]\n",
    "y=[2,3,4,-2]\n",
    "plt.xlim(-2,6)\n",
    "plt.ylim(-3,5)\n",
    "plt.title(\"nuage de points\")\n",
    "plt.xlabel(\"abscisses\")\n",
    "plt.ylabel(\"ordonnées\")\n",
    "plt.grid()\n",
    "plt.plot(x,y,\"+\")\n",
    "plt.savefig(\"graphique12.png\")\n",
    "plt.show()\n"
   ]
  },
  {
   "cell_type": "markdown",
   "metadata": {},
   "source": [
    "**Remarque** : l'instruction show( ) est bloquante. Tant que la fenêtre n’a pas été fermée, le reste du code ne s’exécute pas. C'est pourquoi l'instruction show() figure généralement une seule fois et à la fin d'un programme Python."
   ]
  },
  {
   "cell_type": "markdown",
   "metadata": {},
   "source": [
    "## TRACER UNE LIGNE BRISÉE\n",
    "C'est très simple, car par défaut, l'instruction plt.plot() relie les points par des segments!\n",
    "\n",
    "Il suffit donc d'écrire plt.plot(x,y). Python va construire les points précédents et va automatiquement les relier"
   ]
  },
  {
   "cell_type": "code",
   "execution_count": null,
   "metadata": {},
   "outputs": [],
   "source": [
    "import matplotlib.pyplot as plt \n",
    "x=[-1,0,2,5]\n",
    "y=[2,3,4,-2]\n",
    "plt.xlim(-2,6)\n",
    "plt.ylim(-3,5)\n",
    "plt.title(\"ligne brisée\")\n",
    "plt.xlabel(\"abscisses\")\n",
    "plt.ylabel(\"ordonnées\")\n",
    "plt.grid()\n",
    "plt.plot(x,y)\n",
    "plt.show()"
   ]
  },
  {
   "cell_type": "markdown",
   "metadata": {},
   "source": [
    "#### A vous de jouer ! \n",
    "**Tracé 1 :**\n",
    "Dessiner le triangle ABC avec A(0, 0), B(1, 1) et C(-1, 1)."
   ]
  },
  {
   "cell_type": "code",
   "execution_count": null,
   "metadata": {},
   "outputs": [],
   "source": []
  },
  {
   "cell_type": "markdown",
   "metadata": {},
   "source": [
    "**Tracé 2 :**  \n",
    "Dessiner le carré ABCD avec A(0, 0), B(1, 0) et C(1, 1) et D(0,1).\n",
    "\n",
    "Pour faire figurer les lettres sur le carré, on pourra utiliser la fonction :\n",
    "\n",
    "**text(abscisse_début_du_texte, ordonnée_début_du_texte, r\"texte_à_écrire\")**"
   ]
  },
  {
   "cell_type": "code",
   "execution_count": null,
   "metadata": {},
   "outputs": [],
   "source": []
  },
  {
   "cell_type": "markdown",
   "metadata": {},
   "source": [
    "## MODÉLISER"
   ]
  },
  {
   "cell_type": "markdown",
   "metadata": {},
   "source": [
    "**Tracé 3**\n",
    "Exécuter ces lignes de codes. Que permettent-elles d’afficher ?"
   ]
  },
  {
   "cell_type": "code",
   "execution_count": null,
   "metadata": {},
   "outputs": [],
   "source": [
    "import matplotlib.pyplot as plt \n",
    "\n",
    "def euler(h,n):\n",
    "    x=1\n",
    "    y=0\n",
    "    plt.scatter(x,y,s=10)\n",
    "    for k in range(1,n):\n",
    "        y=h/x+y\n",
    "        x=1+k*h\n",
    "        plt.scatter(x,y,s=10)\n",
    "    plt.show()\n",
    "\n",
    "euler(0.01,1000)"
   ]
  },
  {
   "cell_type": "markdown",
   "metadata": {},
   "source": [
    "## TRACÉS DE FONCTIONS"
   ]
  },
  {
   "cell_type": "markdown",
   "metadata": {},
   "source": [
    "**Tracé 4 :** Excécuter ces lignes de codes"
   ]
  },
  {
   "cell_type": "code",
   "execution_count": null,
   "metadata": {},
   "outputs": [],
   "source": [
    "import numpy as np\n",
    "import matplotlib.pyplot as plt\n",
    "\n",
    "x=np.linspace(0,2*np.pi,30)\n",
    "y=np.cos(x)\n",
    "plt.plot(x,y)\n",
    "plt.ylim(-2,2)\n",
    "\n",
    "plt.show()\n"
   ]
  },
  {
   "cell_type": "markdown",
   "metadata": {},
   "source": [
    "**Tracé 5 : A vous**\n",
    "\n",
    "Tracer la courbe représentative de la fonction définie sur [−3;3] par $f(x)=−x²+1$."
   ]
  },
  {
   "cell_type": "code",
   "execution_count": null,
   "metadata": {},
   "outputs": [],
   "source": []
  },
  {
   "cell_type": "markdown",
   "metadata": {},
   "source": [
    "## PROBABILITÉS"
   ]
  },
  {
   "cell_type": "markdown",
   "metadata": {},
   "source": [
    "Excécuter ces lignes de codes"
   ]
  },
  {
   "cell_type": "code",
   "execution_count": null,
   "metadata": {},
   "outputs": [],
   "source": [
    "from random import*\n",
    "import matplotlib.pyplot as plt\n",
    "\n",
    "def de(face):\n",
    "    return randint(1,face)\n",
    "\n",
    "def loi(n):\n",
    "    effectif=0\n",
    "    for k in range(1,n+1):\n",
    "        if de(6)==6:\n",
    "            effectif=effectif+1\n",
    "        plt.scatter(k,effectif/k,s=10)\n",
    "\n",
    "plt.ylim(-0.1,1.0)\n",
    "loi(100)\n",
    "plt.show()"
   ]
  },
  {
   "cell_type": "markdown",
   "metadata": {},
   "source": [
    "**A vous de jouer**\n",
    "\n",
    "On lance deux dés non truqués et on s'intéresse à la somme des deux dés.\n",
    "\n",
    "On réalise 100 fois cette expérience et on s'intéresse à la fréquence d'apparition du 7.\n",
    "\n",
    "Modéliser, à l'aide de matplotlib, cette simulation."
   ]
  },
  {
   "cell_type": "code",
   "execution_count": null,
   "metadata": {},
   "outputs": [],
   "source": []
  },
  {
   "cell_type": "code",
   "execution_count": null,
   "metadata": {},
   "outputs": [],
   "source": [
    "from random import*\n",
    "import matplotlib.pyplot as plt\n",
    "\n",
    "def de(face):\n",
    "    return randint(1,face)        \n",
    "\n",
    "def echantillon(n):\n",
    "    L=[]\n",
    "    effectif=0\n",
    "    for k in range(1,n+1):\n",
    "        L.append(de(6))\n",
    "    return L\n",
    "\n",
    "plt.hist(echantillon(100), range(1,7), edgecolor='red')\n",
    "plt.show()"
   ]
  },
  {
   "cell_type": "markdown",
   "metadata": {},
   "source": [
    "**A vous de jouer**\n",
    "\n",
    "On lance deux dés non truqués et on s'intéresse à la somme des deux dés.\n",
    "\n",
    "On réalise 100 fois cette expérience.\n",
    "\n",
    "Réaliser l'histogramme de cette simulation."
   ]
  },
  {
   "cell_type": "code",
   "execution_count": null,
   "metadata": {},
   "outputs": [],
   "source": []
  }
 ],
 "metadata": {
  "kernelspec": {
   "display_name": "Python 3",
   "language": "python",
   "name": "python3"
  },
  "language_info": {
   "codemirror_mode": {
    "name": "ipython",
    "version": 3
   },
   "file_extension": ".py",
   "mimetype": "text/x-python",
   "name": "python",
   "nbconvert_exporter": "python",
   "pygments_lexer": "ipython3",
   "version": "3.7.3"
  }
 },
 "nbformat": 4,
 "nbformat_minor": 2
}

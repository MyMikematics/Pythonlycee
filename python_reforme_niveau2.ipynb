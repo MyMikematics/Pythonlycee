{
 "cells": [
  {
   "cell_type": "markdown",
   "metadata": {},
   "source": [
    "# Module Turtle\n",
    "Avec ce module graphique, on peut facilement mettre en oeuvre des algorithmes de construction dynamiques de figures géométriques."
   ]
  },
  {
   "cell_type": "markdown",
   "metadata": {},
   "source": [
    "<div class=\"alert alert-info\">\n",
    "    \n",
    "## Les commandes turtle\n",
    "\n",
    "### Mouvements de la tortue\n",
    " + **forward(d)** : fait avancer la tortue de $d$ (en pixel), le trait est dessiné si le crayon est baissé ;\n",
    " + **backward(d)** : fait reculer la tortue de $d$ (en pixel), le trait est dessiné si le crayon est baissé ;\n",
    " + **left(a)** : fait pivoter la tortue d'un angle de $a$ degrés vers la gauche ;\n",
    " + **right(a)** : fait pivoter la tortue d'un angle de $a$ degrés vers la droite ;\n",
    " + **goto(x,y)** : la tortue va se positionner au point de coordonnées $(x~;~y)$.\n",
    "\n",
    "### Contrôle su stylo\n",
    " * **penup()** : lève le crayon ;\n",
    " * **pendown()** : baisse le crayon ;\n",
    " * **pensize()** ou **width()** : fixe la largeur du trait (en pixel) ;\n",
    " * **reset()** : nettoie la fenêtre de dessin, réinitialise la tortue ; elle est située alors au centre de l'écran de dessin tournée vers la droite. \n",
    " * **pencolor(c)** : la couleur par défaut est le noir, on peut la changer en mettant une couleur prédéfinie *red*, *green*, *blue*, *yellow*, $\\dots$ ;\n",
    " * les balises **begin\\_fill()** et **end\\_fill()** permettent de commencer et de terminer le remplissage d'une figure  géométrique.\n",
    "</div>"
   ]
  },
  {
   "cell_type": "code",
   "execution_count": 3,
   "metadata": {},
   "outputs": [],
   "source": [
    "from turtle import * # bibliothèque turtle\n",
    "\n",
    "setup(width=1000,height=500) # largeur et hauteur de la fenêtre de dessin en pixel \n",
    "\n",
    "forward(100)\n",
    "left(90)\n",
    "color('red')\n",
    "forward(50)\n",
    "color('black')\n",
    "left(90)\n",
    "up()\n",
    "forward(30)\n",
    "down()\n",
    "forward(70)\n",
    "color('blue')\n",
    "right(60)\n",
    "forward(100)\n",
    "\n",
    "exitonclick() # comme son nom l'indique"
   ]
  },
  {
   "attachments": {
    "frise_carre.png": {
     "image/png": "[encoded data removed]"
    }
   },
   "cell_type": "markdown",
   "metadata": {},
   "source": [
    "**Exercice** : Tracer un carré de 100 pixels de côté.\n",
    "\n",
    "* En utilisant l’éditeur, créer la fonction carre qui dessine un carré. La longueur du côté sera une variable d’entrée. \n",
    "* Réaliser la frise suivante :\n",
    "![frise_carre.png](attachment:frise_carre.png)"
   ]
  },
  {
   "cell_type": "code",
   "execution_count": 9,
   "metadata": {},
   "outputs": [
    {
     "ename": "SyntaxError",
     "evalue": "unexpected EOF while parsing (<ipython-input-9-494df160dc26>, line 5)",
     "output_type": "error",
     "traceback": [
      "\u001b[0;36m  File \u001b[0;32m\"<ipython-input-9-494df160dc26>\"\u001b[0;36m, line \u001b[0;32m5\u001b[0m\n\u001b[0;31m    \u001b[0m\n\u001b[0m    ^\u001b[0m\n\u001b[0;31mSyntaxError\u001b[0m\u001b[0;31m:\u001b[0m unexpected EOF while parsing\n"
     ]
    }
   ],
   "source": [
    "def carre(cote):\n",
    "    \n",
    "    \n",
    "#def frise(nombre_motif):\n",
    "    "
   ]
  },
  {
   "attachments": {
    "frise_triangle.png": {
     "image/png": "[encoded data removed]"
    }
   },
   "cell_type": "markdown",
   "metadata": {},
   "source": [
    "**Exercice :**\n",
    "* Ecrire une fonction qui dessine un triangle équilatéral.\n",
    "\n",
    "* Écrire une fonction qui permet de dessiner un nombre donné de motifs de la frise suivante :\n",
    "![frise_triangle.png](attachment:frise_triangle.png)"
   ]
  },
  {
   "cell_type": "code",
   "execution_count": null,
   "metadata": {},
   "outputs": [],
   "source": [
    "def triangle(longueur):\n",
    "    "
   ]
  },
  {
   "attachments": {
    "carres.png": {
     "image/png": "[encoded data removed]"
    }
   },
   "cell_type": "markdown",
   "metadata": {},
   "source": [
    "**Exercice :**\n",
    "On souhaite réaliser cette figure :\n",
    "![carres.png](attachment:carres.png)\n",
    "Le plus petit carré a un côté de 30 pixels, le carré a son côté qui augmente de 10 pixels, ...\n",
    "Ecrire une fonction qui réalise ce travail tant que la somme des périmétres des carrés est inférieur à 1500 pixels."
   ]
  },
  {
   "cell_type": "markdown",
   "metadata": {},
   "source": [
    "# Fonctions algorithmiques\n"
   ]
  },
  {
   "cell_type": "markdown",
   "metadata": {},
   "source": [
    "**A vous de jouer :**\n",
    "Chercher l'erreur dans le script permettant de déterminer les images de la fonction suivante : \n",
    "$$\n",
    "f(x)=\\left\\lbrace \\begin{array}{l}\n",
    "2x~~\\text{si}~ x <3 \\\\\n",
    "9-x~~\\text{si}~x \\in [3;7]\\\\\n",
    "x-2~~\\text{si}~x  >7\n",
    "\\end{array}\n",
    "\\right.\n",
    "$$\n",
    "Corriger-la."
   ]
  },
  {
   "cell_type": "code",
   "execution_count": null,
   "metadata": {},
   "outputs": [],
   "source": [
    "def f(x):\n",
    "    if x<3:\n",
    "        res=2*x\n",
    "    if x>=3 and x<=7:\n",
    "        res=9-x\n",
    "    else:\n",
    "        res=x-2\n",
    "    return res   "
   ]
  },
  {
   "cell_type": "markdown",
   "metadata": {},
   "source": [
    "**Exercice :**\n",
    "\n",
    "Compléter cette fonction suivante permettant de calculer la fréquence d'apparition d'une lettre dans un texte."
   ]
  },
  {
   "cell_type": "code",
   "execution_count": null,
   "metadata": {},
   "outputs": [],
   "source": [
    "def frequence(lettre,texte):\n",
    "\tcompteur =0\n",
    "\tfor k in range(...):\n",
    "\t\tif lettre == ...:\n",
    "\t\t\tcompteur = ...\n",
    "\treturn ......"
   ]
  },
  {
   "cell_type": "code",
   "execution_count": null,
   "metadata": {},
   "outputs": [],
   "source": [
    "texte=\"Bonjour à tous, tester votre programme avec cette chaine de caractère\"\n",
    "frequence('o',texte)"
   ]
  },
  {
   "cell_type": "markdown",
   "metadata": {},
   "source": [
    "**Exercice :**\n",
    "\n",
    "Le but de cet exercice est de déterminer le nombre et une valeur numérique des solutions de l'équation du second degré $ax^2+bx+c=0$.\n",
    "\n",
    "Écrire un programme en langage naturel et à l'aide du logiciel Python qui : \n",
    "* demande à l'utilisateur de saisir les coefficients $a,b$ et $c$\n",
    "* détermine le nombre de solutions de $ax^2+bx+c=0$.\n",
    "* précise le nombre de solutions, et dans le cas où elles existent, écrive ces solutions."
   ]
  },
  {
   "cell_type": "code",
   "execution_count": null,
   "metadata": {},
   "outputs": [],
   "source": []
  },
  {
   "cell_type": "markdown",
   "metadata": {},
   "source": [
    "**Exercice :**\n",
    "\n",
    "On considère la suite $(u_n)$ définie par $u_1=10$ et pour tout entier naturel non nul $n$ par $u_{n+1}=0.8 \\times u_n+25−4 \\times n$\n",
    "\n",
    "On admet que cette suite admet des valeurs négatives.\n",
    "\n",
    "Ecrire un algorithme qui permette de déterminer la plus petite valeur de $n$ telle que $u_n<0$"
   ]
  },
  {
   "cell_type": "code",
   "execution_count": null,
   "metadata": {},
   "outputs": [],
   "source": []
  },
  {
   "cell_type": "markdown",
   "metadata": {},
   "source": [
    "**Exercice :**\n",
    "On considère deux suites $(u_n)$ et $(v_n)$ définies par  : $u_{n+1}=1.02×u_n$ et  $v_{n+1}=v_n+750$ .\n",
    "\n",
    "Ecrire trois fonctions :\n",
    "\n",
    "* une permettant de calculer les termes de  $u_n$ en fonction de la valeur  de $u_0$ , \n",
    "* une permettant de calculer les termes de  $v_n$ en fonction de la valeur de  $v_0$ \n",
    "* une permettant de définir le rang à partir duquel  $u_n>v_n$ en fonction de la valeur de départ  $u_0=v_0$ ."
   ]
  },
  {
   "cell_type": "code",
   "execution_count": null,
   "metadata": {},
   "outputs": [],
   "source": []
  },
  {
   "cell_type": "markdown",
   "metadata": {},
   "source": [
    "**Exercice :**\n",
    "On considère deux listes, une correspondant aux valeurs et une correspondant aux effectifs \n",
    "\n",
    "$X1=[1,2,4,5,8]$\n",
    "\n",
    "$N1=[2,5,9,4,3]$\n",
    "\n",
    "Ecrire une fonction python permettant de calculer une moyenne pondérée. "
   ]
  },
  {
   "cell_type": "code",
   "execution_count": null,
   "metadata": {},
   "outputs": [],
   "source": []
  },
  {
   "cell_type": "markdown",
   "metadata": {},
   "source": [
    "**Exercice  :**\n",
    "\n",
    "Ecrire une fonction python permettant de calculer la médiane d'une série ordonnée."
   ]
  },
  {
   "cell_type": "code",
   "execution_count": null,
   "metadata": {},
   "outputs": [],
   "source": [
    "def mediane(liste):\n",
    "    "
   ]
  },
  {
   "cell_type": "markdown",
   "metadata": {},
   "source": [
    "A tester avec $X1=[1,2,4,5,8,11,11,15,17,17,18,20]$"
   ]
  },
  {
   "cell_type": "code",
   "execution_count": null,
   "metadata": {},
   "outputs": [],
   "source": [
    "mediane(X1)"
   ]
  },
  {
   "cell_type": "markdown",
   "metadata": {},
   "source": [
    "**Exercice  :**\n",
    "\n",
    "Ecrire une fonction python permettant de calculer la médiane d'une série ordonnée."
   ]
  },
  {
   "cell_type": "code",
   "execution_count": null,
   "metadata": {},
   "outputs": [],
   "source": [
    "def medianenonord(liste1):\n",
    "    "
   ]
  },
  {
   "cell_type": "markdown",
   "metadata": {},
   "source": [
    "A tester avec  $𝑋1=[12,15,4,9,8,14,11,15,13,17,20,18,20]$"
   ]
  },
  {
   "cell_type": "markdown",
   "metadata": {},
   "source": [
    "**Exercice :**\n",
    "* Ecrire des fonctions permettant de déterminer les 1er et 3ème quartiles d'une série statistique.\n",
    "* Écrire une fonction ecartinterquartile(serie) qui renvoie l’écart interquartile de la série"
   ]
  },
  {
   "cell_type": "code",
   "execution_count": null,
   "metadata": {},
   "outputs": [],
   "source": []
  },
  {
   "cell_type": "markdown",
   "metadata": {},
   "source": [
    "**Exercice :**\n",
    "\n",
    "On lance 100 fois de suite une pièce de monnaie équilibrée et on note le côté obtenu à chaque lancer.\n",
    "\n",
    "Ecrire une fonction simulant le lancer d'une pièce puis une fonction calculant la fréquence d'apparition de Pile.\n",
    "\n",
    "**Indication** : pour cela on utilisera la librairie random : \n",
    "\n",
    "**from random import ***"
   ]
  },
  {
   "cell_type": "code",
   "execution_count": null,
   "metadata": {},
   "outputs": [],
   "source": []
  },
  {
   "cell_type": "markdown",
   "metadata": {},
   "source": [
    "**Exercice :**\n",
    "\n",
    "Un commerçant vend des pâtes de fruits dans des boites avec deux parfums différents : framboise et abricot.\n",
    "\n",
    "Dans chaque boite, 60 % des pâtes de fruits sont à l'abricot et 40 % sont à la framboise.\n",
    "\n",
    "1. Une expérience aléatoire consiste à choisir une pâte de fruit au hasard dans une boite et de noter le parfum.\n",
    "\n",
    "Ecrire une fonction parfum qui simule l'expérience décrite ci-dessus et qui donne pour résultat le parfum de la pâte de fruit choisi.\n",
    "\n",
    "2. On répète l'expérience 100 fois de suite. Ecrire une fonction donnant la fréquence d'apparition du parfum framboise."
   ]
  },
  {
   "cell_type": "code",
   "execution_count": null,
   "metadata": {},
   "outputs": [],
   "source": []
  },
  {
   "cell_type": "markdown",
   "metadata": {},
   "source": [
    "**Exercice : Un peu de probabilités conditionnelles...**\n",
    "\n",
    "On considère un dé à 6 faces parfait et 3 urnes numérotées de 1 à 3. \n",
    "\n",
    "* L'urne 1 contient 3 boules blanches, 4 boules noires et 3 boules vertes. \n",
    "* L'urne 2 contient 2 boules blanches, 2 boules noires et 6 boules vertes. \n",
    "* L'urne 3 contient 4 boules blanches, 4 boules noires et 2 boules vertes. \n",
    "Toutes ces boules sont indiscernables au toucher. \n",
    "On considère l'expérience aléatoire qui consiste à lancer lancer d'abord le dé puis : \n",
    "\n",
    "* Si le numéro est 1 ou 2, on tire une boule dans l'urne n°1 \n",
    "* Si le numéro est 3, 4 ou 5 on tire une boule dans l'urne n°2 \n",
    "* Sinon, on tire une boule dans l'urne n°3. \n",
    "\n",
    "1. Écrire un algorithme modélisant le lancer du dé, suivi du tirage d'une boule dans l'une des 3 urnes et le programmer sous Python. \n",
    "2. Écrire une fonction permettant d'obtenir la fréquence d'apparition d'une boule blanche, d'une boule noire et d'une boule verte lors de n répétitions."
   ]
  },
  {
   "cell_type": "code",
   "execution_count": null,
   "metadata": {},
   "outputs": [],
   "source": []
  },
  {
   "cell_type": "markdown",
   "metadata": {},
   "source": [
    "**Exercice : Travail sur une suite**\n",
    "\n",
    "On définit la suite de Collatz de la manière suivante : \n",
    "\n",
    "On se donne un entier $u_0$ strictement positif.\n",
    "Pour tout entier $n≥1$ , on calcule $u_{n+1}$ en fonction de un de la manière suivante : \n",
    "* Si $u_n$ est pair, on a $u_{n+1}=\\dfrac{u_n}{2}$\n",
    "* Si $u_n$ est impair, on a $u_{n+1}=3u_n+1$\n",
    "Ecrire une fonction retournant la liste de tous les termes jusqu'au rang $n$  de cette suite avec comme paramètre : $u_0$ le premier terme et $n$ le terme désiré."
   ]
  },
  {
   "cell_type": "code",
   "execution_count": null,
   "metadata": {},
   "outputs": [],
   "source": []
  }
 ],
 "metadata": {
  "kernelspec": {
   "display_name": "Python 3",
   "language": "python",
   "name": "python3"
  },
  "language_info": {
   "codemirror_mode": {
    "name": "ipython",
    "version": 3
   },
   "file_extension": ".py",
   "mimetype": "text/x-python",
   "name": "python",
   "nbconvert_exporter": "python",
   "pygments_lexer": "ipython3",
   "version": "3.7.3"
  }
 },
 "nbformat": 4,
 "nbformat_minor": 2
}

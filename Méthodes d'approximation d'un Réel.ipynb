{
 "cells": [
  {
   "cell_type": "markdown",
   "metadata": {},
   "source": [
    "# Méthodes d'Approximation d'un nombre réel :\n",
    "\n",
    "\n",
    "## Méthodes. Généralités.\n",
    "\n",
    "Rapidement un nombre réel sera ici irrationnel et son approximation se fera à l'aide d'une suite récurrente de rationnels en relation avec la densité de l'ensemble $\\mathbb{Q}$ dans $\\mathbb{R}$. C'est ce processus qui permettra d'obtenir la précision souhaitée.\n",
    "\n",
    "### Par Dichotomie :\n",
    "\n",
    "\n",
    "\n",
    "### Par Balayage : \n",
    "\n",
    "\n",
    "\n",
    "\n",
    "### Par une suite : \n",
    "\n",
    "- $\\sqrt2$ et la suite de Héron\n",
    "\n",
    "- La constante $\\gamma$ d'Euler et $u_n=\\sum_{k=1}^{n}\\frac{1}{k}-\\ln(n)$\n",
    "\n",
    "- $\\ln(2)$\n",
    "\n",
    "\n",
    "### En tant que valeur exacte donnée par le Développement en Série Entière d'une fonction en un point : \n",
    "\n",
    "- $e$ et la série entière $e^x=\\sum_{k=0}^{\\infty}\\frac{x^k}{k!}$\n",
    "\n",
    "- ln(2) et la série entière $\\ln(1+x)=\\sum_{k=1}^{\\infty}\\frac{(-1)^{k+1}x^k}{k}$\n",
    "\n",
    "### En considérant ce nombre réel comme l'Aire d'une Surface pouvant elle même être approchéee soit par :\n",
    "\n",
    "- la Méthode des rectangles et les Sommes de Riemann ($\\ln(2), \\frac{\\pi}{4},...$)\n",
    "\n",
    "- par lé Méthode de Monte Carlo\n",
    "\n",
    "### Par la Méthode de Newton, en particulier si ce nombre réel est le zéro d'une fonction\n",
    "\n",
    "\n"
   ]
  },
  {
   "cell_type": "markdown",
   "metadata": {},
   "source": [
    "## Cas Particuliers\n",
    "\n",
    "Pour $\\pi$ : \n",
    "- La Méthode de Monte Carlo\n",
    "- La Formule de Machin : $u_n=\\sum_{n=0}^{\\infty}\\frac{(-1)^n}{2n+1}\\$\n",
    "\n",
    "- Les Sommes de Riemann : $u_n=\\frac{1}{n}\\sum_{k=1}^{n}\\frac{n^2}{n^2+k^2}\\$\n",
    "\n",
    "- Par la fonction $\\zeta$ de Riemann :$\\zeta(2)=\\sum_{n=1}^{\\infty}\\frac{1}{n^2}=\\pi^2/6$ et $\\zeta(4)=\\sum_{n=1}^{\\infty}\\frac{1}{n^4}=\\frac{\\pi^4}{90}$\n",
    "- La Méthode d'Archimède\n",
    "- Les suites d'approximation de $\\pi$ proposées par Ramanujan\n",
    "- L'expérience de Buffon\n",
    "- Le développement en série entière des fonctions $Arccos$, $Arcsin$ et $Arctan$\n",
    "- A l'aide des intégrales généralisées : int de -inf à +inf de exp(-t²) = sqrt(Pi)\n",
    "\n",
    "\n",
    "Pour $e$ :\n",
    "- le DSE de la fonction $exp$ en relation avec la densité de l'ensemble $\\mathbb{Q}$ dans $\\mathbb{R}$\n",
    "\n",
    "\n"
   ]
  },
  {
   "cell_type": "code",
   "execution_count": null,
   "metadata": {},
   "outputs": [],
   "source": []
  }
 ],
 "metadata": {
  "kernelspec": {
   "display_name": "Python 3",
   "language": "python",
   "name": "python3"
  },
  "language_info": {
   "codemirror_mode": {
    "name": "ipython",
    "version": 3
   },
   "file_extension": ".py",
   "mimetype": "text/x-python",
   "name": "python",
   "nbconvert_exporter": "python",
   "pygments_lexer": "ipython3",
   "version": "3.7.4"
  }
 },
 "nbformat": 4,
 "nbformat_minor": 2
}

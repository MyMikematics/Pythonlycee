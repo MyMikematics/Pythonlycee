{
 "cells": [
  {
   "cell_type": "markdown",
   "metadata": {},
   "source": [
    "# Les Listes\n",
    "## Les Listes (1) : \"J'applique\" p 385"
   ]
  },
  {
   "cell_type": "code",
   "execution_count": 5,
   "metadata": {},
   "outputs": [
    {
     "name": "stdout",
     "output_type": "stream",
     "text": [
      "lundi\n",
      "samedi\n",
      "7\n",
      "['vendredi', 'samedi', 'dimanche']\n",
      "['mardi', 'jeudi']\n"
     ]
    }
   ],
   "source": [
    "#Exercice 18p 385 : QCM\n",
    "L=[\"lundi\",\"mardi\",\"mercredi\",\"jeudi\",\"vendredi\",\"samedi\",\"dimanche\"]\n",
    "print(L[0])\n",
    "print (L[-2])\n",
    "#l'instruction print(L[8]) déclanche un message d'erreur puisuqe 8 > len(L)\n",
    "print(len(L))\n",
    "print(L[4:])\n",
    "print(L[1:5:2])"
   ]
  },
  {
   "cell_type": "code",
   "execution_count": 6,
   "metadata": {},
   "outputs": [
    {
     "name": "stdout",
     "output_type": "stream",
     "text": [
      "9\n",
      "6\n",
      "3\n",
      "5\n",
      "6\n",
      "9\n",
      "3\n",
      "2\n",
      "8\n",
      "5\n",
      "4\n",
      "2\n",
      "5\n",
      "8\n",
      "5\n",
      "2\n",
      "4\n",
      "5\n",
      "8\n",
      "2\n",
      "8\n",
      "5\n",
      "2\n",
      "4\n",
      "5\n"
     ]
    }
   ],
   "source": [
    "# Exercice 19\n",
    "L=[8,5,2,4,5,8,2]\n",
    "for v in L :\n",
    "    print (v+1)\n",
    "for i in range (len(L)) : #j'ai remplacé de 7 de la consigne par len(L)\n",
    "    print (L[6-i])\n",
    "for v in L[1:] :\n",
    "    print (v)\n",
    "for  i in range(5) :\n",
    "    print (L[i])"
   ]
  },
  {
   "cell_type": "code",
   "execution_count": 10,
   "metadata": {},
   "outputs": [
    {
     "name": "stdout",
     "output_type": "stream",
     "text": [
      "[1, 3, 5, 7, 9, 11, 13, 15, 17, 19]\n",
      "[1, 2, 4, 8, 16, 32, 64, 128, 256, 512]\n",
      "[0, 0, 0, 0, 0, 0, 0, 0, 0, 0]\n",
      "[10, 9, 8, 7, 6, 5, 4, 3, 2, 1]\n"
     ]
    }
   ],
   "source": [
    "#Exercice 20\n",
    "L=[2*k+1 for k in range(10)]\n",
    "print (L)\n",
    "M=[2**k for k in range(10)]\n",
    "print(M)\n",
    "N=[0]*10\n",
    "print(N)\n",
    "K=[10-k for k in range(10)]\n",
    "print(K)"
   ]
  },
  {
   "cell_type": "code",
   "execution_count": 13,
   "metadata": {},
   "outputs": [
    {
     "name": "stdout",
     "output_type": "stream",
     "text": [
      "4\n"
     ]
    }
   ],
   "source": [
    "#Exercice 21 question 1)\n",
    "from random import randint\n",
    "L=[randint(1,20) for k in range(100)]\n",
    "nb_voisins=0\n",
    "for i in range(99) :\n",
    "    if L[i]==L[i+1] :\n",
    "        nb_voisins=nb_voisins+1\n",
    "print (nb_voisins) #instruction oubliée dans le livre !"
   ]
  },
  {
   "cell_type": "code",
   "execution_count": 18,
   "metadata": {},
   "outputs": [
    {
     "name": "stdout",
     "output_type": "stream",
     "text": [
      "1\n"
     ]
    }
   ],
   "source": [
    "#Exercice 21 question 2)\n",
    "from random import randint\n",
    "L=[randint(1,20) for k in range(100)]\n",
    "nb_voisins=0\n",
    "for i in range(98) :\n",
    "    if L[i]==L[i+1] and L[i+1]==L[i+2]:\n",
    "        nb_voisins=nb_voisins+1\n",
    "print (nb_voisins) #instruction oubliée dans le livre !"
   ]
  },
  {
   "cell_type": "code",
   "execution_count": 23,
   "metadata": {},
   "outputs": [
    {
     "name": "stdout",
     "output_type": "stream",
     "text": [
      "34\n"
     ]
    }
   ],
   "source": [
    "#Exercice 21 question 3)\n",
    "from random import randint\n",
    "L=[randint(1,20) for k in range(100)]\n",
    "nb_multiple_de_3=0\n",
    "for i in range(100) :\n",
    "    if L[i]%3==0 :\n",
    "        nb_multiple_de_3=nb_multiple_de_3+1\n",
    "print (nb_multiple_de_3) #instruction oubliée dans le livre, alors qu'on demande de tester les instructions dans un éditeur Python"
   ]
  },
  {
   "cell_type": "code",
   "execution_count": 74,
   "metadata": {},
   "outputs": [
    {
     "name": "stdout",
     "output_type": "stream",
     "text": [
      "-5.0 -235.0\n",
      "-4.5 -168.75\n",
      "-4.0 -116.0\n",
      "-3.5 -75.25\n",
      "-3.0 -45.0\n",
      "-2.5 -23.75\n",
      "-2.0 -10.0\n",
      "-1.5 -2.25\n",
      "-1.0 1.0\n",
      "-0.5 1.25\n",
      "0.0 0.0\n",
      "0.5 -1.25\n",
      "1.0 -1.0\n",
      "1.5 2.25\n",
      "2.0 10.0\n",
      "2.5 23.75\n",
      "3.0 45.0\n",
      "3.5 75.25\n",
      "4.0 116.0\n",
      "4.5 168.75\n"
     ]
    }
   ],
   "source": [
    "#Exercice 22 question 1)\n",
    "def f(x) :\n",
    "    return 2*x**3-3*x\n",
    "X=[0.5*k for k in range(-10,10)]\n",
    "Y=[f(x) for x in X]\n",
    "\n",
    "for val in range(len(X)) :\n",
    "    print(X[val],Y[val])                   #instructions oubliées dans le livre !!"
   ]
  },
  {
   "cell_type": "code",
   "execution_count": 73,
   "metadata": {},
   "outputs": [
    {
     "name": "stdout",
     "output_type": "stream",
     "text": [
      "0.0 5.0\n",
      "0.1 5.05\n",
      "0.2 5.1\n",
      "0.30000000000000004 5.15\n",
      "0.4 5.2\n",
      "0.5 5.25\n",
      "0.6000000000000001 5.3\n",
      "0.7000000000000001 5.35\n",
      "0.8 5.4\n",
      "0.9 5.45\n",
      "1.0 5.5\n",
      "1.1 1.2100000000000002\n",
      "1.2000000000000002 1.4400000000000004\n",
      "1.3 1.6900000000000002\n",
      "1.4000000000000001 1.9600000000000004\n",
      "1.5 2.25\n",
      "1.6 2.5600000000000005\n",
      "1.7000000000000002 2.8900000000000006\n",
      "1.8 3.24\n",
      "1.9000000000000001 3.6100000000000003\n",
      "2.0 4.0\n"
     ]
    }
   ],
   "source": [
    "#Exercice 22 question 2)\n",
    "def f(x) :\n",
    "    if x<=1 :\n",
    "        return 0.5*x + 5\n",
    "    else :\n",
    "        return x**2\n",
    "X=[k*0.1 for k in range(21)]\n",
    "Y=[f(x) for x in X]\n",
    "\n",
    "for val in range(len(X)) :\n",
    "    print(X[val],Y[val])                # instructions oubliées dans le livre !! Même remarque\n",
    "                                        # problème de format de nombre pour 3*0.1=0.30000000000000004 !!"
   ]
  },
  {
   "cell_type": "code",
   "execution_count": 72,
   "metadata": {},
   "outputs": [
    {
     "name": "stdout",
     "output_type": "stream",
     "text": [
      "-2.0 0.0\n",
      "-1.9000000000000001 0.6244997998398396\n",
      "-1.8 0.8717797887081346\n",
      "-1.7000000000000002 1.0535653752852736\n",
      "-1.6 1.1999999999999997\n",
      "-1.5 1.3228756555322954\n",
      "-1.4000000000000001 1.42828568570857\n",
      "-1.3 1.5198684153570663\n",
      "-1.2000000000000002 1.5999999999999999\n",
      "-1.1 1.6703293088490065\n",
      "-1.0 1.7320508075688772\n",
      "-0.9 1.786057109949175\n",
      "-0.8 1.833030277982336\n",
      "-0.7000000000000001 1.8734993995195195\n",
      "-0.6000000000000001 1.9078784028338913\n",
      "-0.5 1.9364916731037085\n",
      "-0.4 1.9595917942265424\n",
      "-0.30000000000000004 1.977371993328519\n",
      "-0.2 1.98997487421324\n",
      "-0.1 1.997498435543818\n",
      "0.0 2.0\n",
      "0.1 1.997498435543818\n",
      "0.2 1.98997487421324\n",
      "0.30000000000000004 1.977371993328519\n",
      "0.4 1.9595917942265424\n",
      "0.5 1.9364916731037085\n",
      "0.6000000000000001 1.9078784028338913\n",
      "0.7000000000000001 1.8734993995195195\n",
      "0.8 1.833030277982336\n",
      "0.9 1.786057109949175\n",
      "1.0 1.7320508075688772\n",
      "1.1 1.6703293088490065\n",
      "1.2000000000000002 1.5999999999999999\n",
      "1.3 1.5198684153570663\n",
      "1.4000000000000001 1.42828568570857\n",
      "1.5 1.3228756555322954\n",
      "1.6 1.1999999999999997\n",
      "1.7000000000000002 1.0535653752852736\n",
      "1.8 0.8717797887081346\n",
      "1.9000000000000001 0.6244997998398396\n",
      "2.0 0.0\n"
     ]
    }
   ],
   "source": [
    "#Exercice 23\n",
    "\n",
    "from math import sqrt\n",
    "\n",
    "def f(x) :\n",
    "     return sqrt(4-x**2)        # inutile de préciser que x doit etre dans [-2;2], comme le suggère pourtant 'énoncé !\n",
    "\n",
    "X=[k*0.1 for k in range(-20,21)]\n",
    "Y=[f(x) for x in X]\n",
    "\n",
    "for val in range(len(X)) :\n",
    "    print(X[val],Y[val])\n",
    "\n",
    "# problème de format de nombre pour 3*0.1=0.30000000000000004 !!"
   ]
  },
  {
   "cell_type": "code",
   "execution_count": 42,
   "metadata": {},
   "outputs": [
    {
     "name": "stdout",
     "output_type": "stream",
     "text": [
      "-4\n",
      "-4\n"
     ]
    }
   ],
   "source": [
    "#Exercice 24 : Somme des termes d'une liste donnée\n",
    "from random import randint\n",
    "L=[randint(-10,10) for k in range(20)]\n",
    "somme_liste=0\n",
    "for p in range(20) :\n",
    "    somme_liste=L[p]+somme_liste\n",
    "print(somme_liste)\n",
    "print (sum(L))"
   ]
  },
  {
   "cell_type": "code",
   "execution_count": 43,
   "metadata": {},
   "outputs": [],
   "source": [
    "# Exercice 25 : Moyenne des termes d'une liste donnée\n"
   ]
  },
  {
   "cell_type": "markdown",
   "metadata": {},
   "source": [
    "## Les Listes (2) : \"J'applique\" p 385"
   ]
  },
  {
   "cell_type": "code",
   "execution_count": 1,
   "metadata": {},
   "outputs": [
    {
     "name": "stdout",
     "output_type": "stream",
     "text": [
      "[10, 12, 12, 13, 0]\n",
      "[10, 12, 12, 13, 0, 0]\n",
      "[0, 10, 12, 12, 13, 0]\n",
      "[2, 3, 10, 12, 12, 13, 0]\n",
      "[10, 12, 13, 0]\n",
      "1\n",
      "[10, 12, 13, 0, 13, 0]\n"
     ]
    }
   ],
   "source": [
    "#Exercice 26p387\n",
    "L=[10,12,12,13]\n",
    "\n",
    "L.append(0)        #Ajoute la valeur 0 en fin de liste L\n",
    "print (L)\n",
    "print (L+[0])      #Crée une nouvelle liste où on a ajouté deux fois la valeur 0 en fin de liste L\n",
    "print([0]+L)       #Crée une nouvelle liste où on ajoute la valeur 0 en début de liste L\n",
    "print ([2,3]+L)\n",
    "L.remove(12)       #Enlève la première occurence de l'élément 12 de la liste L\n",
    "print(L)\n",
    "print(L.count(12)) #Compte le nombre d'occurences de l'élément 12 dans L\n",
    "print (L+L[2:])\n",
    "\n",
    "# Notre fonctionnement habituel nous pousse à considérer la liste L comme celle donnée au début de la consigne \n",
    "# alors même que la liste peut être modifiée par la suite des instructions données."
   ]
  },
  {
   "cell_type": "code",
   "execution_count": 3,
   "metadata": {},
   "outputs": [
    {
     "name": "stdout",
     "output_type": "stream",
     "text": [
      "['c', 'e', 'c', 'l', 'i', 'd']\n",
      "['d', 'e', 'c', 'l', 'i', 'c']\n",
      "['c', 'e', 'c', 'l', 'i', 'd']\n",
      "C\n",
      "c\n",
      "['D', 'E', 'C', 'L', 'I', 'C']\n"
     ]
    }
   ],
   "source": [
    "#Exercice 27p387\n",
    "L=['c','e','c','l','j','d']\n",
    "\n",
    "#question1\n",
    "L[4]='i'\n",
    "print(L)\n",
    "\n",
    "#question2 : première réponse simple car la consigne donne le contenu effectif de la liste\n",
    "L[0]='d'\n",
    "L[len(L)-1]='c'\n",
    "print(L)\n",
    "\n",
    "#question2 : deuxième réponse\n",
    "prem=L[0]\n",
    "der=L[len(L)-1]\n",
    "L[len(L)-1]=prem\n",
    "L[0]=der\n",
    "print(L) #On doit retrouver la liste L dans l'ordre initial après l'application des deux solutions\n",
    "\n",
    "#question3\n",
    "print(L[0].upper()) #Permet de mettre en majuscule\n",
    "\n",
    "#question4\n",
    "print(L[0].lower()) #Permet de mettre en minuscule\n",
    "\n",
    "#question5\n",
    "prem=L[0]\n",
    "der=L[len(L)-1]\n",
    "L[0]=der\n",
    "L[len(L)-1]=prem          #Il faut de nouveau permuter la première et la dernière valeur\n",
    "for i in range(len(L)) : #On modifie la casse de chaque élément dans la liste\n",
    "    L[i]=L[i].upper()\n",
    "print(L)"
   ]
  },
  {
   "cell_type": "code",
   "execution_count": 21,
   "metadata": {},
   "outputs": [
    {
     "name": "stdout",
     "output_type": "stream",
     "text": [
      "[3, 4, 6, 2, 6, 5, 4, 5, 4, 6, 5, 2, 6, 5, 2, 5, 3, 1, 5, 6, 2, 6, 2, 1, 2, 2, 3, 1, 4, 5, 4, 6, 4, 1, 2, 6, 5, 1, 4, 4, 2, 2, 2, 1, 1, 1, 1, 3, 1, 6]\n",
      "[10, 11, 4, 8, 8, 9]\n"
     ]
    }
   ],
   "source": [
    "#Exercice 28\n",
    "#question1\n",
    "from random import randint\n",
    "# on simule 50 lancers d'un dé équilibré: on génère une liste de 50 entiers aléatoirement pris entre 1 et 6 \n",
    "lancers=[randint(1,6) for k in range(50)] \n",
    "# on évalue les effectifs de chaque face obtenue\n",
    "effectifs=[lancers.count(k) for k in range(1,7)]\n",
    "print (lancers)\n",
    "print (effectifs)"
   ]
  },
  {
   "cell_type": "code",
   "execution_count": 22,
   "metadata": {},
   "outputs": [
    {
     "name": "stdout",
     "output_type": "stream",
     "text": [
      "[3, 4, 6, 2, 6, 5, 4, 5, 4, 6, 5, 2, 6, 5, 2, 5, 3, 1, 5, 6, 2, 6, 2, 1, 2, 2, 3, 1, 4, 5, 4, 6, 4, 1, 2, 6, 5, 1, 4, 4, 2, 2, 2, 1, 1, 1, 1, 3, 1, 6]\n",
      "[8, 6, 8, 4, 7, 7]\n"
     ]
    }
   ],
   "source": [
    "#Exercice 28\n",
    "#question2\n",
    "from random import randint\n",
    "lancers2=[randint(1,6) for k in range(40)]\n",
    "effectifs=[lancers2.count(k) for k in range(1,7)]\n",
    "print (lancers)\n",
    "print (effectifs)"
   ]
  },
  {
   "cell_type": "code",
   "execution_count": 4,
   "metadata": {},
   "outputs": [
    {
     "name": "stdout",
     "output_type": "stream",
     "text": [
      "[2, 15, 18, 19, 12]\n"
     ]
    }
   ],
   "source": [
    "#Exercice28\n",
    "#première réponse\n",
    "def permute_1(Liste):\n",
    "    n = len(Liste)\n",
    "    Liste[0], Liste[n-1] = Liste[n-1],Liste[0] #Modification des valeurs de la liste en PARALLELE !\n",
    "    return Liste\n",
    "\n",
    "L=[12,15,18,19,2]\n",
    "L=permute_1(L)\n",
    "print(L)"
   ]
  },
  {
   "cell_type": "code",
   "execution_count": 6,
   "metadata": {},
   "outputs": [
    {
     "name": "stdout",
     "output_type": "stream",
     "text": [
      "[2, 19, 18, 15, 12]\n"
     ]
    }
   ],
   "source": [
    "#Exercice28\n",
    "#deuxième réponse\n",
    "def permute_2(Liste):\n",
    "    L.reverse()\n",
    "    return Liste\n",
    "\n",
    "L=[12,15,18,19,2]                              # Permute bien la dernière valeur et la première mais aussi les autres\n",
    "L=permute_2(L)\n",
    "print(L)"
   ]
  },
  {
   "cell_type": "code",
   "execution_count": 23,
   "metadata": {},
   "outputs": [
    {
     "name": "stdout",
     "output_type": "stream",
     "text": [
      "[3, 4, 6, 2, 6, 5, 4, 5, 4, 6, 5, 2, 6, 5, 2, 5, 3, 1, 5, 6, 2, 6, 2, 1, 2, 2, 3, 1, 4, 5, 4, 6, 4, 1, 2, 6, 5, 1, 4, 4, 2, 2, 2, 1, 1, 1, 1, 3, 1, 6, 2, 3, 5, 1, 6, 2, 1, 5, 1, 3, 2, 4, 1, 2, 3, 3, 6, 4, 5, 6, 5, 2, 1, 6, 1, 3, 5, 1, 5, 1, 4, 4, 6, 5, 6, 3, 6, 2, 3, 3]\n",
      "[18, 17, 12, 12, 15, 16]\n"
     ]
    }
   ],
   "source": [
    "#Exercice29\n",
    "#question3\n",
    "L=lancers+lancers2\n",
    "print(L)\n",
    "effectifs=[L.count(k) for k in range(1,7)]\n",
    "print(effectifs)"
   ]
  },
  {
   "cell_type": "code",
   "execution_count": null,
   "metadata": {},
   "outputs": [
    {
     "name": "stdout",
     "output_type": "stream",
     "text": [
      "[1, 2, 3, 4]\n",
      "[1, 2, 3, 4, 5]\n",
      "[1, 2, 3, 4, 5]\n",
      "[1, 2, 3, 4, 5]\n",
      "[1, 2, 3, 4, 5, 6]\n",
      "[1, 2, 3, 4, 5]\n",
      "[0, 0, 0, 0, 0]\n",
      "[1, 2, 3, 4, 5]\n",
      "[1, 2, 3, 4, 5, 6]\n",
      "[1, 2, 3, 4, 5]\n"
     ]
    }
   ],
   "source": [
    "#Exercice 30\n",
    "L=[1,2,3,4]\n",
    "#question1a\n",
    "L2=L\n",
    "print(L2) # Copie de la liste L en créant une nouvelle liste L2\n",
    "#question1b\n",
    "L2.append(5)\n",
    "print(L2)\n",
    "print(L) # La liste L a été également modifiée !\n",
    "#question2\n",
    "L3=L[:]\n",
    "print(L3)\n",
    "L3.append(6)\n",
    "print(L3)\n",
    "print(L) #la liste L3 est une copie indépendante de L\n",
    "\n",
    "L4=[0]*len(L)\n",
    "print(L4)\n",
    "for i in range(len(L)):\n",
    "    L4[i]=L[i]\n",
    "print (L4)\n",
    "L4.append(6)\n",
    "print(L4)\n",
    "print(L) #on a corrigé l'instruction incorrecte du livre (L2[i]=L[i]) et L4 est bien une copie indépendante de L\n",
    "\n",
    "L5=L # il y a une erreur dans le livre : les crochets écrits dans la consigne renvoient un message d'erreur\n",
    "for v in L :\n",
    "    L5.append(v)\n",
    "print(L5)\n",
    "L5.append(5)\n",
    "print(L5)\n",
    "print(L) #il semble que les instructions n'aient pas été effectuées"
   ]
  },
  {
   "cell_type": "code",
   "execution_count": 68,
   "metadata": {},
   "outputs": [
    {
     "name": "stdout",
     "output_type": "stream",
     "text": [
      "[36, 76, 42, 60, 28, 39, 2, 2, 46, 29, 99, 99, 63, 86, 23, 85, 66, 19, 12, 70]\n",
      "99\n",
      "[76, 42, 60, 28, 39, 2, 2, 46, 29, 36, 99, 99, 86, 85, 70, 66, 63, 23, 19, 12]\n"
     ]
    }
   ],
   "source": [
    "#Exercice 31 : corrigé POURRI fourni par DECLIC-HACHETTE !\n",
    "\n",
    "#question1\n",
    "from random import randint\n",
    "L = [randint(1,100) for k in range(20)]\n",
    "print(L)\n",
    "\n",
    "#question2\n",
    "print(max(L))\n",
    "\n",
    "#question3\n",
    "for k in range(len(L)-1) :\n",
    "    u = max(L[k::])\n",
    "    pos = L.index(u)           #Indique le rang de la première occurence du maximum.\n",
    "    L[k],L[pos] = L[pos],L[k]\n",
    "print(L)                       #l'algrithme déconne à partir d'une liste à 12 éléments !!!"
   ]
  },
  {
   "cell_type": "code",
   "execution_count": 62,
   "metadata": {},
   "outputs": [
    {
     "name": "stdout",
     "output_type": "stream",
     "text": [
      "[67, 85, 65, 52, 22, 58, 49, 4, 6, 90, 61, 24, 74, 45, 83, 94, 94, 3, 18, 50]\n",
      "94\n",
      "[94, 94, 90, 85, 83, 74, 67, 65, 61, 58, 52, 49, 45, 24, 22, 18, 6, 4, 3, 50]\n"
     ]
    }
   ],
   "source": [
    "#Exercice 31\n",
    "\n",
    "#question1\n",
    "from random import randint\n",
    "L = [randint(1,100) for k in range(20)]\n",
    "print(L)\n",
    "\n",
    "#question2\n",
    "print(max(L))\n",
    "\n",
    "#question3\n",
    "for k in range(len(L)-1) :\n",
    "    for i in range (k,len(L)-1) :\n",
    "        if L[i]>= L[k] :\n",
    "            L[k],L[i] = L[i],L[k]\n",
    "print(L)                       #l'algrithme est plus simple et marche super bien!"
   ]
  },
  {
   "cell_type": "code",
   "execution_count": 71,
   "metadata": {},
   "outputs": [
    {
     "name": "stdout",
     "output_type": "stream",
     "text": [
      "[90]\n"
     ]
    }
   ],
   "source": [
    "#Exercice 32\n",
    "def seuil(Liste,seuil):\n",
    "    L = []                           # Crée une liste vide\n",
    "    for val in Liste:\n",
    "        if val>seuil:\n",
    "            L.append(val)\n",
    "    return L\n",
    "\n",
    "L1 = [10,20,30,40,50,60,70,80,90]\n",
    "print(seuil(L1,89.99999))"
   ]
  },
  {
   "cell_type": "code",
   "execution_count": null,
   "metadata": {},
   "outputs": [],
   "source": []
  }
 ],
 "metadata": {
  "kernelspec": {
   "display_name": "Python 3",
   "language": "python",
   "name": "python3"
  },
  "language_info": {
   "codemirror_mode": {
    "name": "ipython",
    "version": 3
   },
   "file_extension": ".py",
   "mimetype": "text/x-python",
   "name": "python",
   "nbconvert_exporter": "python",
   "pygments_lexer": "ipython3",
   "version": "3.7.4"
  }
 },
 "nbformat": 4,
 "nbformat_minor": 2
}
